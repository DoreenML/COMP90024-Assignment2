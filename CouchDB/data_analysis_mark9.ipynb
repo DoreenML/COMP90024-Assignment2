{
 "cells": [
  {
   "cell_type": "code",
   "execution_count": 1,
   "metadata": {},
   "outputs": [],
   "source": [
    "import os\n",
    "from xml.etree.ElementInclude import include\n",
    "\n",
    "import couchdb\n",
    "import json\n",
    "#from analysis import TwitterClassifier\n",
    "from shapely.geometry import Polygon, box\n",
    "from collections import defaultdict\n",
    "import nltk\n",
    "#nltk.download('wordnet')\n",
    "import pandas as pd\n",
    "import numpy as np\n",
    "\n",
    "from textblob import TextBlob\n",
    "import re\n",
    "\n",
    "from nltk.corpus import stopwords\n",
    "from nltk.tokenize import TweetTokenizer\n",
    "from nltk import pos_tag\n",
    "from nltk.corpus import wordnet\n",
    "from nltk.stem import WordNetLemmatizer\n",
    "from nltk.sentiment.vader import SentimentIntensityAnalyzer\n",
    "from sklearn.feature_selection import f_regression\n",
    "from empath import Empath\n",
    "\n",
    "\n",
    "import matplotlib.pyplot as plt\n",
    "import matplotlib\n",
    "import seaborn as sns\n",
    "\n",
    "import ast\n",
    "import wordcloud\n",
    "from gensim.models import Phrases\n",
    "from gensim.corpora.dictionary import Dictionary\n",
    "from gensim import corpora\n",
    "#from gensim.models import TfidfModel\n",
    "from gensim.models.ldamodel import LdaModel"
   ]
  },
  {
   "cell_type": "code",
   "execution_count": 73,
   "metadata": {},
   "outputs": [],
   "source": [
    "_id = []\n",
    "user_id = []\n",
    "location = []\n",
    "time = []\n",
    "text = []\n",
    "rt_cnt = []\n",
    "like_cnt = []\n",
    "hashtag = []\n",
    "\n",
    "_id_before = []\n",
    "location_before = []\n",
    "time_before = []\n",
    "text_before = []\n",
    "\n",
    "\n",
    "path = ['area-finding/tweepyUserTimeLine/tweet_melbourne0.json']\n",
    "'''\n",
    ",\n",
    "        'area-finding/tweepyUserTimeLine/tweet_melbourne1.json',\n",
    "        'area-finding/tweepyUserTimeLine/tweet_melbourne2.json',\n",
    "        'area-finding/tweepyUserTimeLine/tweet_melbourne3.json',\n",
    "        'area-finding/tweepyUserTimeLine/tweet_melbourne4.json',\n",
    "        'area-finding/tweepyUserTimeLine/tweet_melbourne5.json',\n",
    "        'area-finding/tweepyUserTimeLine/tweet_melbourne6.json',\n",
    "        'area-finding/tweepyUserTimeLine/tweet_melbourne7.json']\n",
    "'''\n",
    "for ele in path:\n",
    "    f = open(ele)\n",
    "    line = f.readline()\n",
    "    while line:\n",
    "        line_dict = ast.literal_eval(line)\n",
    "\n",
    "        d = line_dict['created_at'].split()\n",
    "\n",
    "        if d[1] == 'Jan':\n",
    "            month = '01'\n",
    "        elif d[1] == 'Feb':\n",
    "            month = '02'\n",
    "        elif d[1] == 'March':\n",
    "            month = '03'\n",
    "        elif d[1] == 'Apr':\n",
    "            month = '04'\n",
    "        elif d[1] == 'May':\n",
    "            month = '05'\n",
    "        elif d[1] == 'Jun':\n",
    "            month = '06'\n",
    "        elif d[1] == 'Jul':\n",
    "            month = '07'\n",
    "        elif d[1] == 'Aug':\n",
    "            month = '08'\n",
    "        elif d[1] == 'Sep':\n",
    "            month = '09'\n",
    "        elif d[1] == 'Oct':\n",
    "            month = '10'\n",
    "        elif d[1] == 'Nov':\n",
    "            month = '11'\n",
    "        elif d[1] == 'Dec':\n",
    "            month = '12'\n",
    "        \n",
    "        if int(d[5]) > 2019:\n",
    "            _id.append(line_dict['_id'])\n",
    "            user_id.append(line_dict['user_id'])\n",
    "            location.append(line_dict['user_place'])\n",
    "            text.append(line_dict['text'])\n",
    "            time.append(d[5] + '-' + month)\n",
    "            rt_cnt.append(line_dict['retweet_count'])\n",
    "            like_cnt.append(line_dict['favorite_count'])\n",
    "            hashtag.append(line_dict['hashtags'])\n",
    "        \n",
    "        if int(d[5]) > 2016 and int(d[5]) < 2020:\n",
    "            _id_before.append(line_dict['_id'])\n",
    "            location_before.append(line_dict['user_place'])\n",
    "            text_before.append(line_dict['text'])\n",
    "            time_before.append(d[5] + '-' + month)\n",
    "\n",
    "        line = f.readline()\n",
    "\n",
    "    f.close()"
   ]
  },
  {
   "cell_type": "code",
   "execution_count": 74,
   "metadata": {},
   "outputs": [],
   "source": [
    "data = pd.DataFrame()\n",
    "\n",
    "data['id'] = _id\n",
    "data['user_id'] = user_id\n",
    "data['location'] = location\n",
    "data['text'] = text\n",
    "data['time'] = time\n",
    "data['rt'] = rt_cnt\n",
    "data['like'] = like_cnt\n",
    "data['hashtag'] = hashtag\n",
    "\n",
    "data_before = pd.DataFrame()\n",
    "\n",
    "data_before['id'] = _id_before\n",
    "data_before['location'] = location_before\n",
    "data_before['text'] = text_before\n",
    "data_before['time'] = time_before"
   ]
  },
  {
   "cell_type": "code",
   "execution_count": 75,
   "metadata": {},
   "outputs": [],
   "source": [
    "data = data.dropna()\n",
    "data_before = data_before.dropna()"
   ]
  },
  {
   "cell_type": "code",
   "execution_count": 76,
   "metadata": {},
   "outputs": [
    {
     "name": "stdout",
     "output_type": "stream",
     "text": [
      "(1072116, 8)\n",
      "(322248, 4)\n"
     ]
    }
   ],
   "source": [
    "print(data.shape)\n",
    "print(data_before.shape)"
   ]
  },
  {
   "cell_type": "code",
   "execution_count": 77,
   "metadata": {},
   "outputs": [
    {
     "data": {
      "text/html": [
       "<div>\n",
       "<style scoped>\n",
       "    .dataframe tbody tr th:only-of-type {\n",
       "        vertical-align: middle;\n",
       "    }\n",
       "\n",
       "    .dataframe tbody tr th {\n",
       "        vertical-align: top;\n",
       "    }\n",
       "\n",
       "    .dataframe thead th {\n",
       "        text-align: right;\n",
       "    }\n",
       "</style>\n",
       "<table border=\"1\" class=\"dataframe\">\n",
       "  <thead>\n",
       "    <tr style=\"text-align: right;\">\n",
       "      <th></th>\n",
       "      <th>id</th>\n",
       "      <th>user_id</th>\n",
       "      <th>location</th>\n",
       "      <th>text</th>\n",
       "      <th>time</th>\n",
       "      <th>rt</th>\n",
       "      <th>like</th>\n",
       "      <th>hashtag</th>\n",
       "    </tr>\n",
       "  </thead>\n",
       "  <tbody>\n",
       "    <tr>\n",
       "      <th>0</th>\n",
       "      <td>1523429978402353152</td>\n",
       "      <td>24113</td>\n",
       "      <td>Brogo, Australia</td>\n",
       "      <td>@verbaliza Thanks! 😁\\nToday will be pruning, h...</td>\n",
       "      <td>2022-05</td>\n",
       "      <td>0</td>\n",
       "      <td>0</td>\n",
       "      <td>[]</td>\n",
       "    </tr>\n",
       "    <tr>\n",
       "      <th>1</th>\n",
       "      <td>1523429478101569537</td>\n",
       "      <td>24113</td>\n",
       "      <td>Brogo, Australia</td>\n",
       "      <td>@verbaliza Gloves :)\\nLook, I essentially stop...</td>\n",
       "      <td>2022-05</td>\n",
       "      <td>0</td>\n",
       "      <td>0</td>\n",
       "      <td>[]</td>\n",
       "    </tr>\n",
       "    <tr>\n",
       "      <th>2</th>\n",
       "      <td>1523428432302211072</td>\n",
       "      <td>24113</td>\n",
       "      <td>Brogo, Australia</td>\n",
       "      <td>@verbaliza Looking out on a dark winter seasca...</td>\n",
       "      <td>2022-05</td>\n",
       "      <td>0</td>\n",
       "      <td>1</td>\n",
       "      <td>[]</td>\n",
       "    </tr>\n",
       "    <tr>\n",
       "      <th>3</th>\n",
       "      <td>1523427931787522048</td>\n",
       "      <td>24113</td>\n",
       "      <td>Brogo, Australia</td>\n",
       "      <td>@verbaliza Ex-Canberran here (now rural Bega V...</td>\n",
       "      <td>2022-05</td>\n",
       "      <td>0</td>\n",
       "      <td>1</td>\n",
       "      <td>[]</td>\n",
       "    </tr>\n",
       "    <tr>\n",
       "      <th>4</th>\n",
       "      <td>1523427255695065089</td>\n",
       "      <td>24113</td>\n",
       "      <td>Brogo, Australia</td>\n",
       "      <td>@verbaliza Eliza.\\nWinter is the BEST season.</td>\n",
       "      <td>2022-05</td>\n",
       "      <td>0</td>\n",
       "      <td>0</td>\n",
       "      <td>[]</td>\n",
       "    </tr>\n",
       "    <tr>\n",
       "      <th>...</th>\n",
       "      <td>...</td>\n",
       "      <td>...</td>\n",
       "      <td>...</td>\n",
       "      <td>...</td>\n",
       "      <td>...</td>\n",
       "      <td>...</td>\n",
       "      <td>...</td>\n",
       "      <td>...</td>\n",
       "    </tr>\n",
       "    <tr>\n",
       "      <th>1110757</th>\n",
       "      <td>1212707518792663041</td>\n",
       "      <td>997965797950566400</td>\n",
       "      <td>Millgrove, Victoria</td>\n",
       "      <td>@nickcahill9 Don't even get excited anymore. D...</td>\n",
       "      <td>2020-01</td>\n",
       "      <td>0</td>\n",
       "      <td>1</td>\n",
       "      <td>[]</td>\n",
       "    </tr>\n",
       "    <tr>\n",
       "      <th>1110758</th>\n",
       "      <td>1212705513739128832</td>\n",
       "      <td>997965797950566400</td>\n",
       "      <td>Millgrove, Victoria</td>\n",
       "      <td>RT @gumworld1976: Every retweet I donate $5 ev...</td>\n",
       "      <td>2020-01</td>\n",
       "      <td>253</td>\n",
       "      <td>0</td>\n",
       "      <td>[]</td>\n",
       "    </tr>\n",
       "    <tr>\n",
       "      <th>1110759</th>\n",
       "      <td>1212705235325423619</td>\n",
       "      <td>997965797950566400</td>\n",
       "      <td>Millgrove, Victoria</td>\n",
       "      <td>@NedBalmeLives @rtralphy Even if you don't giv...</td>\n",
       "      <td>2020-01</td>\n",
       "      <td>0</td>\n",
       "      <td>0</td>\n",
       "      <td>[]</td>\n",
       "    </tr>\n",
       "    <tr>\n",
       "      <th>1110760</th>\n",
       "      <td>1212703556068708352</td>\n",
       "      <td>997965797950566400</td>\n",
       "      <td>Millgrove, Victoria</td>\n",
       "      <td>Can all you climate change nuffies start gluin...</td>\n",
       "      <td>2020-01</td>\n",
       "      <td>0</td>\n",
       "      <td>0</td>\n",
       "      <td>[]</td>\n",
       "    </tr>\n",
       "    <tr>\n",
       "      <th>1110761</th>\n",
       "      <td>1212306949833801728</td>\n",
       "      <td>997965797950566400</td>\n",
       "      <td>Millgrove, Victoria</td>\n",
       "      <td>@GerardBennett_ How good was he! Killed it</td>\n",
       "      <td>2020-01</td>\n",
       "      <td>0</td>\n",
       "      <td>0</td>\n",
       "      <td>[]</td>\n",
       "    </tr>\n",
       "  </tbody>\n",
       "</table>\n",
       "<p>1072116 rows × 8 columns</p>\n",
       "</div>"
      ],
      "text/plain": [
       "                          id             user_id             location  \\\n",
       "0        1523429978402353152               24113     Brogo, Australia   \n",
       "1        1523429478101569537               24113     Brogo, Australia   \n",
       "2        1523428432302211072               24113     Brogo, Australia   \n",
       "3        1523427931787522048               24113     Brogo, Australia   \n",
       "4        1523427255695065089               24113     Brogo, Australia   \n",
       "...                      ...                 ...                  ...   \n",
       "1110757  1212707518792663041  997965797950566400  Millgrove, Victoria   \n",
       "1110758  1212705513739128832  997965797950566400  Millgrove, Victoria   \n",
       "1110759  1212705235325423619  997965797950566400  Millgrove, Victoria   \n",
       "1110760  1212703556068708352  997965797950566400  Millgrove, Victoria   \n",
       "1110761  1212306949833801728  997965797950566400  Millgrove, Victoria   \n",
       "\n",
       "                                                      text     time   rt  \\\n",
       "0        @verbaliza Thanks! 😁\\nToday will be pruning, h...  2022-05    0   \n",
       "1        @verbaliza Gloves :)\\nLook, I essentially stop...  2022-05    0   \n",
       "2        @verbaliza Looking out on a dark winter seasca...  2022-05    0   \n",
       "3        @verbaliza Ex-Canberran here (now rural Bega V...  2022-05    0   \n",
       "4            @verbaliza Eliza.\\nWinter is the BEST season.  2022-05    0   \n",
       "...                                                    ...      ...  ...   \n",
       "1110757  @nickcahill9 Don't even get excited anymore. D...  2020-01    0   \n",
       "1110758  RT @gumworld1976: Every retweet I donate $5 ev...  2020-01  253   \n",
       "1110759  @NedBalmeLives @rtralphy Even if you don't giv...  2020-01    0   \n",
       "1110760  Can all you climate change nuffies start gluin...  2020-01    0   \n",
       "1110761         @GerardBennett_ How good was he! Killed it  2020-01    0   \n",
       "\n",
       "         like hashtag  \n",
       "0           0      []  \n",
       "1           0      []  \n",
       "2           1      []  \n",
       "3           1      []  \n",
       "4           0      []  \n",
       "...       ...     ...  \n",
       "1110757     1      []  \n",
       "1110758     0      []  \n",
       "1110759     0      []  \n",
       "1110760     0      []  \n",
       "1110761     0      []  \n",
       "\n",
       "[1072116 rows x 8 columns]"
      ]
     },
     "execution_count": 77,
     "metadata": {},
     "output_type": "execute_result"
    }
   ],
   "source": [
    "data"
   ]
  },
  {
   "cell_type": "code",
   "execution_count": 78,
   "metadata": {},
   "outputs": [],
   "source": [
    "if_city = []\n",
    "for idx,val in enumerate(data['location']):\n",
    "    val = val.lower()\n",
    "    if ('melbourne' in val) or ('sydney' in val) or ('brisbane' in val) or ('adelaide' in val):\n",
    "        if_city.append(True)\n",
    "    else: \n",
    "        if_city.append(False)\n",
    "\n",
    "if_city_before = []\n",
    "for idx,val in enumerate(data_before['location']):\n",
    "    val = val.lower()\n",
    "    if ('melbourne' in val) or ('sydney' in val) or ('brisbane' in val) or ('adelaide' in val):\n",
    "        if_city_before.append(True)\n",
    "    else: \n",
    "        if_city_before.append(False)"
   ]
  },
  {
   "cell_type": "code",
   "execution_count": 79,
   "metadata": {},
   "outputs": [],
   "source": [
    "data['if_city'] = if_city\n",
    "data = data[data['if_city'] == True]\n",
    "\n",
    "data_before['if_city'] = if_city_before\n",
    "data_before = data_before[data_before['if_city'] == True]"
   ]
  },
  {
   "cell_type": "code",
   "execution_count": 80,
   "metadata": {},
   "outputs": [
    {
     "name": "stdout",
     "output_type": "stream",
     "text": [
      "(612918, 9)\n",
      "(217066, 5)\n"
     ]
    }
   ],
   "source": [
    "print(data.shape)\n",
    "print(data_before.shape)\n"
   ]
  },
  {
   "cell_type": "code",
   "execution_count": 82,
   "metadata": {},
   "outputs": [
    {
     "data": {
      "text/html": [
       "<div>\n",
       "<style scoped>\n",
       "    .dataframe tbody tr th:only-of-type {\n",
       "        vertical-align: middle;\n",
       "    }\n",
       "\n",
       "    .dataframe tbody tr th {\n",
       "        vertical-align: top;\n",
       "    }\n",
       "\n",
       "    .dataframe thead th {\n",
       "        text-align: right;\n",
       "    }\n",
       "</style>\n",
       "<table border=\"1\" class=\"dataframe\">\n",
       "  <thead>\n",
       "    <tr style=\"text-align: right;\">\n",
       "      <th></th>\n",
       "      <th>id</th>\n",
       "      <th>user_id</th>\n",
       "      <th>location</th>\n",
       "      <th>text</th>\n",
       "      <th>time</th>\n",
       "      <th>rt</th>\n",
       "      <th>like</th>\n",
       "      <th>hashtag</th>\n",
       "      <th>if_city</th>\n",
       "    </tr>\n",
       "  </thead>\n",
       "  <tbody>\n",
       "    <tr>\n",
       "      <th>3250</th>\n",
       "      <td>1523252190827380736</td>\n",
       "      <td>778395</td>\n",
       "      <td>Sydney, Australia</td>\n",
       "      <td>Collage poetry\\n@w1d1_app #challenge \\n#inspir...</td>\n",
       "      <td>2022-05</td>\n",
       "      <td>0</td>\n",
       "      <td>0</td>\n",
       "      <td>[challenge, inspiration]</td>\n",
       "      <td>True</td>\n",
       "    </tr>\n",
       "    <tr>\n",
       "      <th>3251</th>\n",
       "      <td>1523119190663520257</td>\n",
       "      <td>778395</td>\n",
       "      <td>Sydney, Australia</td>\n",
       "      <td>Breakfast that looks pretty and tastes buoniss...</td>\n",
       "      <td>2022-05</td>\n",
       "      <td>0</td>\n",
       "      <td>0</td>\n",
       "      <td>[burchermuesli]</td>\n",
       "      <td>True</td>\n",
       "    </tr>\n",
       "    <tr>\n",
       "      <th>3252</th>\n",
       "      <td>1522886951275220995</td>\n",
       "      <td>778395</td>\n",
       "      <td>Sydney, Australia</td>\n",
       "      <td>#sushiboat at @zushi_sydney \\n@telcus_au made ...</td>\n",
       "      <td>2022-05</td>\n",
       "      <td>0</td>\n",
       "      <td>0</td>\n",
       "      <td>[sushiboat]</td>\n",
       "      <td>True</td>\n",
       "    </tr>\n",
       "    <tr>\n",
       "      <th>3253</th>\n",
       "      <td>1522878340289339392</td>\n",
       "      <td>778395</td>\n",
       "      <td>Sydney, Australia</td>\n",
       "      <td>At the @mca_australia looking for inspiration ...</td>\n",
       "      <td>2022-05</td>\n",
       "      <td>0</td>\n",
       "      <td>0</td>\n",
       "      <td>[shells]</td>\n",
       "      <td>True</td>\n",
       "    </tr>\n",
       "    <tr>\n",
       "      <th>3254</th>\n",
       "      <td>1522733153357496320</td>\n",
       "      <td>778395</td>\n",
       "      <td>Sydney, Australia</td>\n",
       "      <td>Light and shadow\\n@w1d1_app #challenge \\n#insp...</td>\n",
       "      <td>2022-05</td>\n",
       "      <td>0</td>\n",
       "      <td>0</td>\n",
       "      <td>[challenge, inspiration]</td>\n",
       "      <td>True</td>\n",
       "    </tr>\n",
       "    <tr>\n",
       "      <th>...</th>\n",
       "      <td>...</td>\n",
       "      <td>...</td>\n",
       "      <td>...</td>\n",
       "      <td>...</td>\n",
       "      <td>...</td>\n",
       "      <td>...</td>\n",
       "      <td>...</td>\n",
       "      <td>...</td>\n",
       "      <td>...</td>\n",
       "    </tr>\n",
       "    <tr>\n",
       "      <th>1109185</th>\n",
       "      <td>1221568332983304194</td>\n",
       "      <td>853536921032601600</td>\n",
       "      <td>Brunswick, Melbourne</td>\n",
       "      <td>Stroll, Upfield Trail. https://t.co/3y4eJEk47d...</td>\n",
       "      <td>2020-01</td>\n",
       "      <td>2</td>\n",
       "      <td>9</td>\n",
       "      <td>[]</td>\n",
       "      <td>True</td>\n",
       "    </tr>\n",
       "    <tr>\n",
       "      <th>1109186</th>\n",
       "      <td>1221365232070725632</td>\n",
       "      <td>853536921032601600</td>\n",
       "      <td>Brunswick, Melbourne</td>\n",
       "      <td>Victorious, Kines ☕️\\n.\\n.\\n.\\n.\\n.\\n#coffee #...</td>\n",
       "      <td>2020-01</td>\n",
       "      <td>0</td>\n",
       "      <td>2</td>\n",
       "      <td>[coffee, brunswickcoffee, hopestreet, dudeinwi...</td>\n",
       "      <td>True</td>\n",
       "    </tr>\n",
       "    <tr>\n",
       "      <th>1109187</th>\n",
       "      <td>1220900940275798016</td>\n",
       "      <td>853536921032601600</td>\n",
       "      <td>Brunswick, Melbourne</td>\n",
       "      <td>MOTHERLOAD film screening. Presented by Tim Re...</td>\n",
       "      <td>2020-01</td>\n",
       "      <td>1</td>\n",
       "      <td>1</td>\n",
       "      <td>[]</td>\n",
       "      <td>True</td>\n",
       "    </tr>\n",
       "    <tr>\n",
       "      <th>1109188</th>\n",
       "      <td>1219784345486946304</td>\n",
       "      <td>853536921032601600</td>\n",
       "      <td>Brunswick, Melbourne</td>\n",
       "      <td>Attention: Brunswick https://t.co/0b2SE9WSYV</td>\n",
       "      <td>2020-01</td>\n",
       "      <td>2</td>\n",
       "      <td>6</td>\n",
       "      <td>[]</td>\n",
       "      <td>True</td>\n",
       "    </tr>\n",
       "    <tr>\n",
       "      <th>1109189</th>\n",
       "      <td>1219782703354003456</td>\n",
       "      <td>853536921032601600</td>\n",
       "      <td>Brunswick, Melbourne</td>\n",
       "      <td>This building has been screaming out for a bre...</td>\n",
       "      <td>2020-01</td>\n",
       "      <td>0</td>\n",
       "      <td>2</td>\n",
       "      <td>[]</td>\n",
       "      <td>True</td>\n",
       "    </tr>\n",
       "  </tbody>\n",
       "</table>\n",
       "<p>612918 rows × 9 columns</p>\n",
       "</div>"
      ],
      "text/plain": [
       "                          id             user_id              location  \\\n",
       "3250     1523252190827380736              778395     Sydney, Australia   \n",
       "3251     1523119190663520257              778395     Sydney, Australia   \n",
       "3252     1522886951275220995              778395     Sydney, Australia   \n",
       "3253     1522878340289339392              778395     Sydney, Australia   \n",
       "3254     1522733153357496320              778395     Sydney, Australia   \n",
       "...                      ...                 ...                   ...   \n",
       "1109185  1221568332983304194  853536921032601600  Brunswick, Melbourne   \n",
       "1109186  1221365232070725632  853536921032601600  Brunswick, Melbourne   \n",
       "1109187  1220900940275798016  853536921032601600  Brunswick, Melbourne   \n",
       "1109188  1219784345486946304  853536921032601600  Brunswick, Melbourne   \n",
       "1109189  1219782703354003456  853536921032601600  Brunswick, Melbourne   \n",
       "\n",
       "                                                      text     time  rt  like  \\\n",
       "3250     Collage poetry\\n@w1d1_app #challenge \\n#inspir...  2022-05   0     0   \n",
       "3251     Breakfast that looks pretty and tastes buoniss...  2022-05   0     0   \n",
       "3252     #sushiboat at @zushi_sydney \\n@telcus_au made ...  2022-05   0     0   \n",
       "3253     At the @mca_australia looking for inspiration ...  2022-05   0     0   \n",
       "3254     Light and shadow\\n@w1d1_app #challenge \\n#insp...  2022-05   0     0   \n",
       "...                                                    ...      ...  ..   ...   \n",
       "1109185  Stroll, Upfield Trail. https://t.co/3y4eJEk47d...  2020-01   2     9   \n",
       "1109186  Victorious, Kines ☕️\\n.\\n.\\n.\\n.\\n.\\n#coffee #...  2020-01   0     2   \n",
       "1109187  MOTHERLOAD film screening. Presented by Tim Re...  2020-01   1     1   \n",
       "1109188       Attention: Brunswick https://t.co/0b2SE9WSYV  2020-01   2     6   \n",
       "1109189  This building has been screaming out for a bre...  2020-01   0     2   \n",
       "\n",
       "                                                   hashtag  if_city  \n",
       "3250                              [challenge, inspiration]     True  \n",
       "3251                                       [burchermuesli]     True  \n",
       "3252                                           [sushiboat]     True  \n",
       "3253                                              [shells]     True  \n",
       "3254                              [challenge, inspiration]     True  \n",
       "...                                                    ...      ...  \n",
       "1109185                                                 []     True  \n",
       "1109186  [coffee, brunswickcoffee, hopestreet, dudeinwi...     True  \n",
       "1109187                                                 []     True  \n",
       "1109188                                                 []     True  \n",
       "1109189                                                 []     True  \n",
       "\n",
       "[612918 rows x 9 columns]"
      ]
     },
     "execution_count": 82,
     "metadata": {},
     "output_type": "execute_result"
    }
   ],
   "source": [
    "data"
   ]
  },
  {
   "cell_type": "code",
   "execution_count": 12,
   "metadata": {},
   "outputs": [],
   "source": [
    "punctuation = '!\"$%&\\'()*+,-./:;<=>?[\\\\]^_`{|}~•@'\n",
    "\n",
    "emoji = re.compile(\"[\"  \n",
    "    u\"\\U0001F600-\\U0001F64F\" \n",
    "    u\"\\U0001F300-\\U0001F5FF\" \n",
    "    u\"\\U0001F680-\\U0001F6FF\"  \n",
    "    u\"\\U0001F1E0-\\U0001F1FF\"  \n",
    "    u\"\\U00002500-\\U00002BEF\"  \n",
    "    u\"\\U00002702-\\U000027B0\"\n",
    "    u\"\\U00002702-\\U000027B0\"\n",
    "    u\"\\U000024C2-\\U0001F251\"\n",
    "    u\"\\U0001f926-\\U0001f937\"\n",
    "    u\"\\U00010000-\\U0010ffff\"\n",
    "    u\"\\u2640-\\u2642\" \n",
    "    u\"\\u2600-\\u2B55\"\n",
    "    u\"\\u200d\"\n",
    "    u\"\\u23cf\"\n",
    "    u\"\\u23e9\"\n",
    "    u\"\\u231a\"\n",
    "    u\"\\ufe0f\"  \n",
    "    u\"\\u3030\"\n",
    "                  \"]+\", re.UNICODE)"
   ]
  },
  {
   "cell_type": "code",
   "execution_count": 13,
   "metadata": {},
   "outputs": [],
   "source": [
    "def clean_text(text):\n",
    "\n",
    "    #tokenizer = TweetTokenizer(r'\\w+')\n",
    "\n",
    "    text  = text.replace('\\n',\" \")\n",
    "    text = re.sub('-',\" \",text)\n",
    "    text = re.sub(r\"\\d+/\\d+/\\d+\", \"\", text) #日期，对主体模型没什么意义\n",
    "    text = re.sub(r\"[0-2]?[0-9]:[0-6][0-9]\", \"\", text) #时间，没意义\n",
    "    text = re.sub(\"http\\S+\", \"\", text)   # 去网址\n",
    "    text = re.sub(r\"bit.ly/\\S+\", '', text) # remove bit links\n",
    "    text = text.strip('[link]') # remove other links\n",
    "    text = text.lower()\n",
    "    text = re.sub('(@[A-Za-z]+[A-Za-z0-9-_]+)', '', text)\n",
    "    text = re.sub('(RT\\s@[A-Za-z]+[A-Za-z0-9-_]+)', '', text)\n",
    "    text = re.sub(r\"[\\w]+@[\\.\\w]+\", \"\", text) #邮件地址，没意义\n",
    "    text = re.sub(r\"/[a-zA-Z]*[:\\//\\]*[A-Za-z0-9\\-_]+\\.+[A-Za-z0-9\\.\\/%&=\\?\\-_]+/i\", \"\", text) #网址，没意义\n",
    "    text = re.sub(emoji, '', text) # remove emoji\n",
    "    text = re.sub('[' + punctuation + ']+', ' ', text) # remove punctuation\n",
    "    #text = tokenizer.tokenize(text)\n",
    "\n",
    "    pure_text = ''\n",
    "    for letter in text:\n",
    "        if letter.isalpha() or letter ==' ':\n",
    "            pure_text += letter\n",
    "    text = ' '.join(word for word in pure_text.split() if len(word)>3)\n",
    "\n",
    "    #lemmatizer = WordNetLemmatizer()\n",
    "    #text = [[lemmatizer.lemmatize(word) for word in pure_text.split()]]\n",
    "\n",
    "    return text\n",
    "\n",
    "# cleaned_text = df['text']\n",
    "cleaned_text = data['text'].apply(lambda x :clean_text(x))\n",
    "cleaned_text_before = data_before['text'].apply(lambda x :clean_text(x))"
   ]
  },
  {
   "cell_type": "code",
   "execution_count": 14,
   "metadata": {},
   "outputs": [],
   "source": [
    "data['cleaned_text'] = cleaned_text\n",
    "data_before['cleaned_text'] = cleaned_text_before\n"
   ]
  },
  {
   "cell_type": "code",
   "execution_count": 15,
   "metadata": {},
   "outputs": [
    {
     "data": {
      "text/plain": [
       "'collage poetry challenge inspiration north ryde'"
      ]
     },
     "execution_count": 15,
     "metadata": {},
     "output_type": "execute_result"
    }
   ],
   "source": [
    "data['cleaned_text'][3250]"
   ]
  },
  {
   "cell_type": "code",
   "execution_count": 18,
   "metadata": {},
   "outputs": [],
   "source": [
    "# 心理健康 keywords\n",
    "with open('area-finding/mental_health_keywords_400.txt') as f:\n",
    "    contents = f.read()\n",
    "    mental_keywords = contents.split(',')\n"
   ]
  },
  {
   "cell_type": "code",
   "execution_count": 19,
   "metadata": {},
   "outputs": [],
   "source": [
    "# 心理健康分类\n",
    "def mental_health(dataset):\n",
    "\n",
    "    if_mental = []\n",
    "\n",
    "    for text in dataset['cleaned_text']:\n",
    "        cnt = 0\n",
    "        for word in mental_keywords:\n",
    "            if word in text:\n",
    "                cnt += 1\n",
    "        if cnt > 0:\n",
    "            if_mental.append(True)\n",
    "        else:\n",
    "            if_mental.append(False)\n",
    "    \n",
    "    return if_mental\n",
    "\n",
    "data['if_mental'] = mental_health(data)\n",
    "data_before['if_mental'] = mental_health(data_before)\n"
   ]
  },
  {
   "cell_type": "code",
   "execution_count": 20,
   "metadata": {},
   "outputs": [],
   "source": [
    "# Data on mental health in all cities\n",
    "data_mental = data[data['if_mental'] == True]\n",
    "data_before_mental = data_before[data_before['if_mental'] == True]"
   ]
  },
  {
   "cell_type": "code",
   "execution_count": 21,
   "metadata": {},
   "outputs": [
    {
     "name": "stdout",
     "output_type": "stream",
     "text": [
      "(44699, 11)\n",
      "(15326, 7)\n"
     ]
    }
   ],
   "source": [
    "print(data_mental.shape)\n",
    "print(data_before_mental.shape)"
   ]
  },
  {
   "cell_type": "code",
   "execution_count": 84,
   "metadata": {},
   "outputs": [],
   "source": [
    "# 疫情期间不区分城市的情绪相关推文数据输出\n",
    "data_mental_js = data_mental.drop(columns = ['if_city', 'if_mental'], axis = 1).to_json(r'Mental.json', orient = 'records')"
   ]
  },
  {
   "cell_type": "markdown",
   "metadata": {},
   "source": [
    "# Sentiment Analysis"
   ]
  },
  {
   "cell_type": "code",
   "execution_count": 22,
   "metadata": {},
   "outputs": [
    {
     "name": "stderr",
     "output_type": "stream",
     "text": [
      "/anaconda3/lib/python3.7/site-packages/ipykernel_launcher.py:13: SettingWithCopyWarning: \n",
      "A value is trying to be set on a copy of a slice from a DataFrame.\n",
      "Try using .loc[row_indexer,col_indexer] = value instead\n",
      "\n",
      "See the caveats in the documentation: https://pandas.pydata.org/pandas-docs/stable/user_guide/indexing.html#returning-a-view-versus-a-copy\n",
      "  del sys.path[0]\n",
      "/anaconda3/lib/python3.7/site-packages/ipykernel_launcher.py:15: SettingWithCopyWarning: \n",
      "A value is trying to be set on a copy of a slice from a DataFrame.\n",
      "Try using .loc[row_indexer,col_indexer] = value instead\n",
      "\n",
      "See the caveats in the documentation: https://pandas.pydata.org/pandas-docs/stable/user_guide/indexing.html#returning-a-view-versus-a-copy\n",
      "  from ipykernel import kernelapp as app\n"
     ]
    }
   ],
   "source": [
    "def sentiment_analysis(dataset):\n",
    "\n",
    "    sentiment_polarity = []\n",
    "    #sentiment_subjectivity = []\n",
    "\n",
    "    for val in dataset['cleaned_text']:\n",
    "        val = TextBlob(val)\n",
    "        sentiment_polarity.append(val.sentiment.polarity)\n",
    "        #sentiment_subjectivity.append(val.sentiment.subjectivity)\n",
    "\n",
    "    return sentiment_polarity\n",
    "\n",
    "data_mental['sentiment_polarity'] = sentiment_analysis(data_mental)\n",
    "#data_mental['sentiment_subjectivity'] = sentiment_subjectivity\n",
    "data_before_mental['sentiment_polarity'] = sentiment_analysis(data_before_mental)\n",
    "#data_mental['sentiment_subjectivity'] = sentiment_subjectivity"
   ]
  },
  {
   "cell_type": "code",
   "execution_count": 23,
   "metadata": {},
   "outputs": [],
   "source": [
    "# remove neutral word \n",
    "data_mental = data_mental[data_mental['sentiment_polarity'] != 0]\n",
    "data_before_mental = data_before_mental[data_before_mental['sentiment_polarity'] != 0]"
   ]
  },
  {
   "cell_type": "code",
   "execution_count": 24,
   "metadata": {},
   "outputs": [
    {
     "name": "stdout",
     "output_type": "stream",
     "text": [
      "(25714, 12)\n",
      "(8891, 8)\n"
     ]
    }
   ],
   "source": [
    "print(data_mental.shape)\n",
    "print(data_before_mental.shape)"
   ]
  },
  {
   "cell_type": "code",
   "execution_count": 25,
   "metadata": {},
   "outputs": [],
   "source": [
    "def city_classifier(dataset):\n",
    "\n",
    "    mel_idx = []\n",
    "    syd_idx = []\n",
    "    bris_idx = []\n",
    "    ald_idx = []\n",
    "\n",
    "    for idx,val in enumerate(dataset['location']):\n",
    "        val = val.lower()\n",
    "        if 'melbourne' in val:\n",
    "            mel_idx.append(idx)\n",
    "        if 'sydney' in val:\n",
    "            syd_idx.append(idx)\n",
    "        if 'brisbane' in val:\n",
    "            bris_idx.append(idx)\n",
    "        if 'adelaide' in val:\n",
    "            ald_idx.append(idx)\n",
    "    \n",
    "    return mel_idx, syd_idx, bris_idx, ald_idx\n"
   ]
  },
  {
   "cell_type": "code",
   "execution_count": 36,
   "metadata": {},
   "outputs": [],
   "source": [
    "# Distinguishing Cities\n",
    "melbourne_mental = data_mental.iloc[city_classifier(data_mental)[0]]\n",
    "sydney_mental = data_mental.iloc[city_classifier(data_mental)[1]]\n",
    "brisbane_mental = data_mental.iloc[city_classifier(data_mental)[2]]\n",
    "adelaide_mental = data_mental.iloc[city_classifier(data_mental)[3]]\n",
    "\n",
    "melbourne_before_mental = data_before_mental.iloc[city_classifier(data_before_mental)[0]]\n",
    "sydney_before_mental = data_before_mental.iloc[city_classifier(data_before_mental)[1]]\n",
    "brisbane_before_mental = data_before_mental.iloc[city_classifier(data_before_mental)[2]]\n",
    "adelaide_before_mental = data_before_mental.iloc[city_classifier(data_before_mental)[3]]"
   ]
  },
  {
   "cell_type": "code",
   "execution_count": 72,
   "metadata": {},
   "outputs": [
    {
     "data": {
      "text/html": [
       "<div>\n",
       "<style scoped>\n",
       "    .dataframe tbody tr th:only-of-type {\n",
       "        vertical-align: middle;\n",
       "    }\n",
       "\n",
       "    .dataframe tbody tr th {\n",
       "        vertical-align: top;\n",
       "    }\n",
       "\n",
       "    .dataframe thead th {\n",
       "        text-align: right;\n",
       "    }\n",
       "</style>\n",
       "<table border=\"1\" class=\"dataframe\">\n",
       "  <thead>\n",
       "    <tr style=\"text-align: right;\">\n",
       "      <th></th>\n",
       "      <th>id</th>\n",
       "      <th>user_id</th>\n",
       "      <th>location</th>\n",
       "      <th>text</th>\n",
       "      <th>time</th>\n",
       "      <th>rt</th>\n",
       "      <th>like</th>\n",
       "      <th>hashtag</th>\n",
       "      <th>if_city</th>\n",
       "      <th>cleaned_text</th>\n",
       "      <th>if_mental</th>\n",
       "      <th>sentiment_polarity</th>\n",
       "      <th>if_hashtag</th>\n",
       "    </tr>\n",
       "  </thead>\n",
       "  <tbody>\n",
       "    <tr>\n",
       "      <th>3818</th>\n",
       "      <td>1515434909719957504</td>\n",
       "      <td>2485161</td>\n",
       "      <td>Melbourne</td>\n",
       "      <td>RT @mrpaddygilmore: John Hegarty: “a great ad ...</td>\n",
       "      <td>2022-04</td>\n",
       "      <td>5</td>\n",
       "      <td>0</td>\n",
       "      <td>[]</td>\n",
       "      <td>True</td>\n",
       "      <td>john hegarty great product demo with twist thanks</td>\n",
       "      <td>True</td>\n",
       "      <td>0.500000</td>\n",
       "      <td>False</td>\n",
       "    </tr>\n",
       "    <tr>\n",
       "      <th>3841</th>\n",
       "      <td>1510224303765483524</td>\n",
       "      <td>2485161</td>\n",
       "      <td>Melbourne</td>\n",
       "      <td>@maddiemelb This one seemed on the cards. Feel...</td>\n",
       "      <td>2022-04</td>\n",
       "      <td>0</td>\n",
       "      <td>5</td>\n",
       "      <td>[]</td>\n",
       "      <td>True</td>\n",
       "      <td>this seemed cards feels like were getting outc...</td>\n",
       "      <td>True</td>\n",
       "      <td>0.800000</td>\n",
       "      <td>False</td>\n",
       "    </tr>\n",
       "    <tr>\n",
       "      <th>3856</th>\n",
       "      <td>1508277915036704774</td>\n",
       "      <td>2485161</td>\n",
       "      <td>Melbourne</td>\n",
       "      <td>RT @UberFacts: Someone gets slapped at the Osc...</td>\n",
       "      <td>2022-04</td>\n",
       "      <td>4281</td>\n",
       "      <td>0</td>\n",
       "      <td>[]</td>\n",
       "      <td>True</td>\n",
       "      <td>someone gets slapped oscars roughly once every...</td>\n",
       "      <td>True</td>\n",
       "      <td>-0.100000</td>\n",
       "      <td>False</td>\n",
       "    </tr>\n",
       "    <tr>\n",
       "      <th>3919</th>\n",
       "      <td>1496724388002996225</td>\n",
       "      <td>2485161</td>\n",
       "      <td>Melbourne</td>\n",
       "      <td>RT @JonathanLaNauze: Credlin frothing at the m...</td>\n",
       "      <td>2022-02</td>\n",
       "      <td>406</td>\n",
       "      <td>0</td>\n",
       "      <td>[]</td>\n",
       "      <td>True</td>\n",
       "      <td>credlin frothing mouth about very rich people ...</td>\n",
       "      <td>True</td>\n",
       "      <td>0.487500</td>\n",
       "      <td>False</td>\n",
       "    </tr>\n",
       "    <tr>\n",
       "      <th>3944</th>\n",
       "      <td>1486892966148927491</td>\n",
       "      <td>2485161</td>\n",
       "      <td>Melbourne</td>\n",
       "      <td>RT @visualizevalue: Failure is the frame, not ...</td>\n",
       "      <td>2022-01</td>\n",
       "      <td>3601</td>\n",
       "      <td>0</td>\n",
       "      <td>[]</td>\n",
       "      <td>True</td>\n",
       "      <td>failure frame picture</td>\n",
       "      <td>True</td>\n",
       "      <td>-0.316667</td>\n",
       "      <td>False</td>\n",
       "    </tr>\n",
       "    <tr>\n",
       "      <th>...</th>\n",
       "      <td>...</td>\n",
       "      <td>...</td>\n",
       "      <td>...</td>\n",
       "      <td>...</td>\n",
       "      <td>...</td>\n",
       "      <td>...</td>\n",
       "      <td>...</td>\n",
       "      <td>...</td>\n",
       "      <td>...</td>\n",
       "      <td>...</td>\n",
       "      <td>...</td>\n",
       "      <td>...</td>\n",
       "      <td>...</td>\n",
       "    </tr>\n",
       "    <tr>\n",
       "      <th>1106310</th>\n",
       "      <td>1247108602889768961</td>\n",
       "      <td>3301298289</td>\n",
       "      <td>Melbourne Graduate School Of Education</td>\n",
       "      <td>To all the students out there worried about re...</td>\n",
       "      <td>2020-04</td>\n",
       "      <td>3</td>\n",
       "      <td>18</td>\n",
       "      <td>[]</td>\n",
       "      <td>True</td>\n",
       "      <td>students there worried about remote learning w...</td>\n",
       "      <td>True</td>\n",
       "      <td>-0.300000</td>\n",
       "      <td>False</td>\n",
       "    </tr>\n",
       "    <tr>\n",
       "      <th>1106316</th>\n",
       "      <td>1243426966658666497</td>\n",
       "      <td>3301298289</td>\n",
       "      <td>Melbourne Graduate School Of Education</td>\n",
       "      <td>Hey Edufriends.. four days into planning for r...</td>\n",
       "      <td>2020-04</td>\n",
       "      <td>2</td>\n",
       "      <td>18</td>\n",
       "      <td>[]</td>\n",
       "      <td>True</td>\n",
       "      <td>edufriends four days into planning remote lear...</td>\n",
       "      <td>True</td>\n",
       "      <td>-0.100000</td>\n",
       "      <td>False</td>\n",
       "    </tr>\n",
       "    <tr>\n",
       "      <th>1109105</th>\n",
       "      <td>1518194071587540992</td>\n",
       "      <td>853536921032601600</td>\n",
       "      <td>Brunswick, Melbourne</td>\n",
       "      <td>RT @beneltham: Dying to know what \"Brunswick v...</td>\n",
       "      <td>2022-04</td>\n",
       "      <td>33</td>\n",
       "      <td>0</td>\n",
       "      <td>[]</td>\n",
       "      <td>True</td>\n",
       "      <td>dying know what brunswick values might down lo...</td>\n",
       "      <td>True</td>\n",
       "      <td>-0.155556</td>\n",
       "      <td>False</td>\n",
       "    </tr>\n",
       "    <tr>\n",
       "      <th>1109116</th>\n",
       "      <td>1463687296578768896</td>\n",
       "      <td>853536921032601600</td>\n",
       "      <td>Brunswick, Melbourne</td>\n",
       "      <td>RT @TimRRead: Moreland is named after a slave ...</td>\n",
       "      <td>2021-11</td>\n",
       "      <td>2</td>\n",
       "      <td>0</td>\n",
       "      <td>[SpringSt, Moreland]</td>\n",
       "      <td>True</td>\n",
       "      <td>moreland named after slave plantation somethin...</td>\n",
       "      <td>True</td>\n",
       "      <td>0.800000</td>\n",
       "      <td>True</td>\n",
       "    </tr>\n",
       "    <tr>\n",
       "      <th>1109126</th>\n",
       "      <td>1440456172482424835</td>\n",
       "      <td>853536921032601600</td>\n",
       "      <td>Brunswick, Melbourne</td>\n",
       "      <td>RT @michaelfstanley: Definitely the biggest ea...</td>\n",
       "      <td>2021-09</td>\n",
       "      <td>1</td>\n",
       "      <td>0</td>\n",
       "      <td>[melbourne, brunswick]</td>\n",
       "      <td>True</td>\n",
       "      <td>definitely biggest earthquake remote ever felt...</td>\n",
       "      <td>True</td>\n",
       "      <td>-0.050000</td>\n",
       "      <td>True</td>\n",
       "    </tr>\n",
       "  </tbody>\n",
       "</table>\n",
       "<p>14010 rows × 13 columns</p>\n",
       "</div>"
      ],
      "text/plain": [
       "                          id             user_id  \\\n",
       "3818     1515434909719957504             2485161   \n",
       "3841     1510224303765483524             2485161   \n",
       "3856     1508277915036704774             2485161   \n",
       "3919     1496724388002996225             2485161   \n",
       "3944     1486892966148927491             2485161   \n",
       "...                      ...                 ...   \n",
       "1106310  1247108602889768961          3301298289   \n",
       "1106316  1243426966658666497          3301298289   \n",
       "1109105  1518194071587540992  853536921032601600   \n",
       "1109116  1463687296578768896  853536921032601600   \n",
       "1109126  1440456172482424835  853536921032601600   \n",
       "\n",
       "                                       location  \\\n",
       "3818                                  Melbourne   \n",
       "3841                                  Melbourne   \n",
       "3856                                  Melbourne   \n",
       "3919                                  Melbourne   \n",
       "3944                                  Melbourne   \n",
       "...                                         ...   \n",
       "1106310  Melbourne Graduate School Of Education   \n",
       "1106316  Melbourne Graduate School Of Education   \n",
       "1109105                    Brunswick, Melbourne   \n",
       "1109116                    Brunswick, Melbourne   \n",
       "1109126                    Brunswick, Melbourne   \n",
       "\n",
       "                                                      text     time    rt  \\\n",
       "3818     RT @mrpaddygilmore: John Hegarty: “a great ad ...  2022-04     5   \n",
       "3841     @maddiemelb This one seemed on the cards. Feel...  2022-04     0   \n",
       "3856     RT @UberFacts: Someone gets slapped at the Osc...  2022-04  4281   \n",
       "3919     RT @JonathanLaNauze: Credlin frothing at the m...  2022-02   406   \n",
       "3944     RT @visualizevalue: Failure is the frame, not ...  2022-01  3601   \n",
       "...                                                    ...      ...   ...   \n",
       "1106310  To all the students out there worried about re...  2020-04     3   \n",
       "1106316  Hey Edufriends.. four days into planning for r...  2020-04     2   \n",
       "1109105  RT @beneltham: Dying to know what \"Brunswick v...  2022-04    33   \n",
       "1109116  RT @TimRRead: Moreland is named after a slave ...  2021-11     2   \n",
       "1109126  RT @michaelfstanley: Definitely the biggest ea...  2021-09     1   \n",
       "\n",
       "         like                 hashtag  if_city  \\\n",
       "3818        0                      []     True   \n",
       "3841        5                      []     True   \n",
       "3856        0                      []     True   \n",
       "3919        0                      []     True   \n",
       "3944        0                      []     True   \n",
       "...       ...                     ...      ...   \n",
       "1106310    18                      []     True   \n",
       "1106316    18                      []     True   \n",
       "1109105     0                      []     True   \n",
       "1109116     0    [SpringSt, Moreland]     True   \n",
       "1109126     0  [melbourne, brunswick]     True   \n",
       "\n",
       "                                              cleaned_text  if_mental  \\\n",
       "3818     john hegarty great product demo with twist thanks       True   \n",
       "3841     this seemed cards feels like were getting outc...       True   \n",
       "3856     someone gets slapped oscars roughly once every...       True   \n",
       "3919     credlin frothing mouth about very rich people ...       True   \n",
       "3944                                 failure frame picture       True   \n",
       "...                                                    ...        ...   \n",
       "1106310  students there worried about remote learning w...       True   \n",
       "1106316  edufriends four days into planning remote lear...       True   \n",
       "1109105  dying know what brunswick values might down lo...       True   \n",
       "1109116  moreland named after slave plantation somethin...       True   \n",
       "1109126  definitely biggest earthquake remote ever felt...       True   \n",
       "\n",
       "         sentiment_polarity  if_hashtag  \n",
       "3818               0.500000       False  \n",
       "3841               0.800000       False  \n",
       "3856              -0.100000       False  \n",
       "3919               0.487500       False  \n",
       "3944              -0.316667       False  \n",
       "...                     ...         ...  \n",
       "1106310           -0.300000       False  \n",
       "1106316           -0.100000       False  \n",
       "1109105           -0.155556       False  \n",
       "1109116            0.800000        True  \n",
       "1109126           -0.050000        True  \n",
       "\n",
       "[14010 rows x 13 columns]"
      ]
     },
     "execution_count": 72,
     "metadata": {},
     "output_type": "execute_result"
    }
   ],
   "source": [
    "melbourne_mental"
   ]
  },
  {
   "cell_type": "code",
   "execution_count": 38,
   "metadata": {},
   "outputs": [],
   "source": [
    "'''\n",
    "# 数据输出为json\n",
    "melbourne_mental_js = melbourne_mental.drop(columns = ['if_city', 'if_mental'], axis = 1).to_json(r'Melbourne_mental.json', orient = 'records')\n",
    "sydney_mental_js = sydney_mental.drop(columns = ['if_city', 'if_mental'], axis = 1).to_json(r'Sydney_mental.json', orient = 'records')\n",
    "brisbane_mental_js = brisbane_mental.drop(columns = ['if_city', 'if_mental'], axis = 1).to_json(r'Brisbane_mental.json', orient = 'records')\n",
    "adelaide_mental_js = adelaide_mental.drop(columns = ['if_city', 'if_mental'], axis = 1).to_json(r'Adelaide_mental.json', orient = 'records')\n",
    "\n",
    "melbourne_before_mental_js = melbourne_before_mental.drop(columns = ['if_city', 'if_mental'], axis = 1).to_json(r'Melbourne_before_mental.json', orient = 'records')\n",
    "sydney_before_mental_js = sydney_before_mental.drop(columns = ['if_city', 'if_mental'], axis = 1).to_json(r'Sydney_before_mental.json', orient = 'records')\n",
    "brisbane_mental_js = brisbane_before_mental.drop(columns = ['if_city', 'if_mental'], axis = 1).to_json(r'Brisbane_before_mental.json', orient = 'records')\n",
    "adelaide_mental_js = adelaide_before_mental.drop(columns = ['if_city', 'if_mental'], axis = 1).to_json(r'Adelaide_before_mental.json', orient = 'records')\n",
    "'''"
   ]
  },
  {
   "cell_type": "code",
   "execution_count": 39,
   "metadata": {},
   "outputs": [
    {
     "name": "stderr",
     "output_type": "stream",
     "text": [
      "/anaconda3/lib/python3.7/site-packages/seaborn/distributions.py:2619: FutureWarning: `distplot` is a deprecated function and will be removed in a future version. Please adapt your code to use either `displot` (a figure-level function with similar flexibility) or `histplot` (an axes-level function for histograms).\n",
      "  warnings.warn(msg, FutureWarning)\n",
      "/anaconda3/lib/python3.7/site-packages/seaborn/distributions.py:2619: FutureWarning: `distplot` is a deprecated function and will be removed in a future version. Please adapt your code to use either `displot` (a figure-level function with similar flexibility) or `histplot` (an axes-level function for histograms).\n",
      "  warnings.warn(msg, FutureWarning)\n",
      "/anaconda3/lib/python3.7/site-packages/seaborn/distributions.py:2619: FutureWarning: `distplot` is a deprecated function and will be removed in a future version. Please adapt your code to use either `displot` (a figure-level function with similar flexibility) or `histplot` (an axes-level function for histograms).\n",
      "  warnings.warn(msg, FutureWarning)\n",
      "/anaconda3/lib/python3.7/site-packages/seaborn/distributions.py:2619: FutureWarning: `distplot` is a deprecated function and will be removed in a future version. Please adapt your code to use either `displot` (a figure-level function with similar flexibility) or `histplot` (an axes-level function for histograms).\n",
      "  warnings.warn(msg, FutureWarning)\n",
      "/anaconda3/lib/python3.7/site-packages/seaborn/distributions.py:2619: FutureWarning: `distplot` is a deprecated function and will be removed in a future version. Please adapt your code to use either `displot` (a figure-level function with similar flexibility) or `histplot` (an axes-level function for histograms).\n",
      "  warnings.warn(msg, FutureWarning)\n",
      "/anaconda3/lib/python3.7/site-packages/seaborn/distributions.py:2619: FutureWarning: `distplot` is a deprecated function and will be removed in a future version. Please adapt your code to use either `displot` (a figure-level function with similar flexibility) or `histplot` (an axes-level function for histograms).\n",
      "  warnings.warn(msg, FutureWarning)\n",
      "/anaconda3/lib/python3.7/site-packages/seaborn/distributions.py:2619: FutureWarning: `distplot` is a deprecated function and will be removed in a future version. Please adapt your code to use either `displot` (a figure-level function with similar flexibility) or `histplot` (an axes-level function for histograms).\n",
      "  warnings.warn(msg, FutureWarning)\n",
      "/anaconda3/lib/python3.7/site-packages/seaborn/distributions.py:2619: FutureWarning: `distplot` is a deprecated function and will be removed in a future version. Please adapt your code to use either `displot` (a figure-level function with similar flexibility) or `histplot` (an axes-level function for histograms).\n",
      "  warnings.warn(msg, FutureWarning)\n"
     ]
    },
    {
     "data": {
      "image/png": "[encoded data removed]",
      "text/plain": [
       "<Figure size 1296x432 with 2 Axes>"
      ]
     },
     "metadata": {
      "needs_background": "light"
     },
     "output_type": "display_data"
    },
    {
     "data": {
      "image/png": "[encoded data removed]",
      "text/plain": [
       "<Figure size 1296x432 with 2 Axes>"
      ]
     },
     "metadata": {
      "needs_background": "light"
     },
     "output_type": "display_data"
    },
    {
     "data": {
      "image/png": "[encoded data removed]",
      "text/plain": [
       "<Figure size 1296x432 with 2 Axes>"
      ]
     },
     "metadata": {
      "needs_background": "light"
     },
     "output_type": "display_data"
    },
    {
     "data": {
      "image/png": "[encoded data removed]",
      "text/plain": [
       "<Figure size 1296x432 with 2 Axes>"
      ]
     },
     "metadata": {
      "needs_background": "light"
     },
     "output_type": "display_data"
    }
   ],
   "source": [
    "def sentiment_plot(city_1, city_2, title_list):\n",
    "    fig, ax = plt.subplots(ncols=2, nrows=1, figsize=(18, 6), sharey=True)\n",
    "    n_bins = 20\n",
    "    sns.distplot(city_1[\"sentiment_polarity\"], ax=ax[0], bins = n_bins, color = \"darkviolet\", kde_kws = {\"linewidth\": 2})\n",
    "    sns.distplot(city_2[\"sentiment_polarity\"], ax=ax[1], bins = n_bins, color = \"darkviolet\", kde_kws = {\"linewidth\": 2})\n",
    "    #sns.distplot(city_3[\"sentiment_polarity\"], ax=ax[2], bins = n_bins, color = \"darkviolet\", kde_kws = {\"linewidth\": 2})\n",
    "    #sns.distplot(city_4[\"sentiment_polarity\"], ax=ax[3], bins = n_bins, color = \"darkviolet\", kde_kws = {\"linewidth\": 2})\n",
    "\n",
    "    for idx, subplot in enumerate(ax):\n",
    "        #ax.tick_params(axis = \"both\", labelsize = 14)\n",
    "        subplot.set_xlabel('Sentiment Polarity')\n",
    "        subplot.set_ylabel('Density')\n",
    "        subplot.set_title(title_list[idx])\n",
    "        #subplot.set_xlabel('Sentiment Polarity')\n",
    "\n",
    "title_list = ['Melbourne During Covid Sentiment Distribution', 'Sydney During Covid Sentiment Distribution']\n",
    "sentiment_plot(melbourne_mental, sydney_mental, title_list)\n",
    "\n",
    "title_list = ['Brisbane During Covid Sentiment Distribution', 'Ald During Covid Sentiment Distribution']\n",
    "sentiment_plot(brisbane_mental, adelaide_mental, title_list)\n",
    "\n",
    "title_list = ['Melbourne Before Covid Sentiment Distribution', 'Sydney Before Covid Sentiment Distribution']\n",
    "sentiment_plot(melbourne_before_mental, sydney_before_mental, title_list)\n",
    "\n",
    "title_list = ['Brisbane Before Covid Sentiment Distribution', 'Ald Before Covid Sentiment Distribution']\n",
    "sentiment_plot(brisbane_before_mental, adelaide_before_mental, title_list)"
   ]
  },
  {
   "cell_type": "code",
   "execution_count": 397,
   "metadata": {},
   "outputs": [
    {
     "data": {
      "text/plain": [
       "'\\ndef sentiment_plot(city_1, city_2, title_list):\\n    fig, ax = plt.subplots(ncols=2, nrows=1, figsize=(18, 6), sharey=True)\\n    n_bins = 20\\n    sns.distplot(city_1[\"sentiment_subjectivity\"], ax=ax[0], bins = n_bins, color = \"darkviolet\", kde_kws = {\"linewidth\": 2})\\n    sns.distplot(city_2[\"sentiment_subjectivity\"], ax=ax[1], bins = n_bins, color = \"darkviolet\", kde_kws = {\"linewidth\": 2})\\n    #sns.distplot(city_3[\"sentiment_polarity\"], ax=ax[2], bins = n_bins, color = \"darkviolet\", kde_kws = {\"linewidth\": 2})\\n    #sns.distplot(city_4[\"sentiment_polarity\"], ax=ax[3], bins = n_bins, color = \"darkviolet\", kde_kws = {\"linewidth\": 2})\\n\\n    for idx, subplot in enumerate(ax):\\n        #ax.tick_params(axis = \"both\", labelsize = 14)\\n        subplot.set_xlabel(\\'Sentiment Subjectivity\\')\\n        subplot.set_ylabel(\\'Density\\')\\n        subplot.set_title(title_list[idx])\\n        #subplot.set_xlabel(\\'Sentiment Polarity\\')\\n\\ntitle_list = [\\'Melbourne Sentiment Distribution\\', \\'Sydney Sentiment Distribution\\']#, \\'Brisbane Sentiment Distribution\\', \\'Ald Sentiment Distribution\\']\\nsentiment_plot(melbourne_mental, sydney_mental, title_list)# brisbane_mental, ald_mental, title_list)\\n\\ntitle_list = [\\'Brisbane Sentiment Distribution\\', \\'Ald Sentiment Distribution\\']\\nsentiment_plot(brisbane_mental, adelaide_mental, title_list)\\n'"
      ]
     },
     "execution_count": 397,
     "metadata": {},
     "output_type": "execute_result"
    }
   ],
   "source": [
    "'''\n",
    "def sentiment_plot(city_1, city_2, title_list):\n",
    "    fig, ax = plt.subplots(ncols=2, nrows=1, figsize=(18, 6), sharey=True)\n",
    "    n_bins = 20\n",
    "    sns.distplot(city_1[\"sentiment_subjectivity\"], ax=ax[0], bins = n_bins, color = \"darkviolet\", kde_kws = {\"linewidth\": 2})\n",
    "    sns.distplot(city_2[\"sentiment_subjectivity\"], ax=ax[1], bins = n_bins, color = \"darkviolet\", kde_kws = {\"linewidth\": 2})\n",
    "    #sns.distplot(city_3[\"sentiment_polarity\"], ax=ax[2], bins = n_bins, color = \"darkviolet\", kde_kws = {\"linewidth\": 2})\n",
    "    #sns.distplot(city_4[\"sentiment_polarity\"], ax=ax[3], bins = n_bins, color = \"darkviolet\", kde_kws = {\"linewidth\": 2})\n",
    "\n",
    "    for idx, subplot in enumerate(ax):\n",
    "        #ax.tick_params(axis = \"both\", labelsize = 14)\n",
    "        subplot.set_xlabel('Sentiment Subjectivity')\n",
    "        subplot.set_ylabel('Density')\n",
    "        subplot.set_title(title_list[idx])\n",
    "        #subplot.set_xlabel('Sentiment Polarity')\n",
    "\n",
    "title_list = ['Melbourne Sentiment Distribution', 'Sydney Sentiment Distribution']#, 'Brisbane Sentiment Distribution', 'Ald Sentiment Distribution']\n",
    "sentiment_plot(melbourne_mental, sydney_mental, title_list)# brisbane_mental, ald_mental, title_list)\n",
    "\n",
    "title_list = ['Brisbane Sentiment Distribution', 'Ald Sentiment Distribution']\n",
    "sentiment_plot(brisbane_mental, adelaide_mental, title_list)\n",
    "'''"
   ]
  },
  {
   "cell_type": "code",
   "execution_count": 40,
   "metadata": {},
   "outputs": [
    {
     "name": "stdout",
     "output_type": "stream",
     "text": [
      "(14010, 12)\n",
      "(7703, 12)\n",
      "(2191, 12)\n",
      "(1810, 12)\n",
      "\n",
      "\n",
      "(5927, 8)\n",
      "(1720, 8)\n",
      "(786, 8)\n",
      "(458, 8)\n"
     ]
    }
   ],
   "source": [
    "# 判断不同地区mental相关的推文数量，判断是否宜居\n",
    "print(melbourne_mental.shape)\n",
    "print(sydney_mental.shape)\n",
    "print(brisbane_mental.shape)\n",
    "print(adelaide_mental.shape)\n",
    "print('\\n')\n",
    "print(melbourne_before_mental.shape)\n",
    "print(sydney_before_mental.shape)\n",
    "print(brisbane_before_mental.shape)\n",
    "print(adelaide_before_mental.shape)"
   ]
  },
  {
   "cell_type": "code",
   "execution_count": 41,
   "metadata": {},
   "outputs": [
    {
     "data": {
      "text/html": [
       "<div>\n",
       "<style scoped>\n",
       "    .dataframe tbody tr th:only-of-type {\n",
       "        vertical-align: middle;\n",
       "    }\n",
       "\n",
       "    .dataframe tbody tr th {\n",
       "        vertical-align: top;\n",
       "    }\n",
       "\n",
       "    .dataframe thead th {\n",
       "        text-align: right;\n",
       "    }\n",
       "</style>\n",
       "<table border=\"1\" class=\"dataframe\">\n",
       "  <thead>\n",
       "    <tr style=\"text-align: right;\">\n",
       "      <th></th>\n",
       "      <th>id</th>\n",
       "      <th>user_id</th>\n",
       "      <th>location</th>\n",
       "      <th>text</th>\n",
       "      <th>time</th>\n",
       "      <th>rt</th>\n",
       "      <th>like</th>\n",
       "      <th>hashtag</th>\n",
       "      <th>if_city</th>\n",
       "      <th>cleaned_text</th>\n",
       "      <th>if_mental</th>\n",
       "      <th>sentiment_polarity</th>\n",
       "    </tr>\n",
       "  </thead>\n",
       "  <tbody>\n",
       "    <tr>\n",
       "      <th>3818</th>\n",
       "      <td>1515434909719957504</td>\n",
       "      <td>2485161</td>\n",
       "      <td>Melbourne</td>\n",
       "      <td>RT @mrpaddygilmore: John Hegarty: “a great ad ...</td>\n",
       "      <td>2022-04</td>\n",
       "      <td>5</td>\n",
       "      <td>0</td>\n",
       "      <td>[]</td>\n",
       "      <td>True</td>\n",
       "      <td>john hegarty great product demo with twist thanks</td>\n",
       "      <td>True</td>\n",
       "      <td>0.500000</td>\n",
       "    </tr>\n",
       "    <tr>\n",
       "      <th>3841</th>\n",
       "      <td>1510224303765483524</td>\n",
       "      <td>2485161</td>\n",
       "      <td>Melbourne</td>\n",
       "      <td>@maddiemelb This one seemed on the cards. Feel...</td>\n",
       "      <td>2022-04</td>\n",
       "      <td>0</td>\n",
       "      <td>5</td>\n",
       "      <td>[]</td>\n",
       "      <td>True</td>\n",
       "      <td>this seemed cards feels like were getting outc...</td>\n",
       "      <td>True</td>\n",
       "      <td>0.800000</td>\n",
       "    </tr>\n",
       "    <tr>\n",
       "      <th>3856</th>\n",
       "      <td>1508277915036704774</td>\n",
       "      <td>2485161</td>\n",
       "      <td>Melbourne</td>\n",
       "      <td>RT @UberFacts: Someone gets slapped at the Osc...</td>\n",
       "      <td>2022-04</td>\n",
       "      <td>4281</td>\n",
       "      <td>0</td>\n",
       "      <td>[]</td>\n",
       "      <td>True</td>\n",
       "      <td>someone gets slapped oscars roughly once every...</td>\n",
       "      <td>True</td>\n",
       "      <td>-0.100000</td>\n",
       "    </tr>\n",
       "    <tr>\n",
       "      <th>3919</th>\n",
       "      <td>1496724388002996225</td>\n",
       "      <td>2485161</td>\n",
       "      <td>Melbourne</td>\n",
       "      <td>RT @JonathanLaNauze: Credlin frothing at the m...</td>\n",
       "      <td>2022-02</td>\n",
       "      <td>406</td>\n",
       "      <td>0</td>\n",
       "      <td>[]</td>\n",
       "      <td>True</td>\n",
       "      <td>credlin frothing mouth about very rich people ...</td>\n",
       "      <td>True</td>\n",
       "      <td>0.487500</td>\n",
       "    </tr>\n",
       "    <tr>\n",
       "      <th>3944</th>\n",
       "      <td>1486892966148927491</td>\n",
       "      <td>2485161</td>\n",
       "      <td>Melbourne</td>\n",
       "      <td>RT @visualizevalue: Failure is the frame, not ...</td>\n",
       "      <td>2022-01</td>\n",
       "      <td>3601</td>\n",
       "      <td>0</td>\n",
       "      <td>[]</td>\n",
       "      <td>True</td>\n",
       "      <td>failure frame picture</td>\n",
       "      <td>True</td>\n",
       "      <td>-0.316667</td>\n",
       "    </tr>\n",
       "  </tbody>\n",
       "</table>\n",
       "</div>"
      ],
      "text/plain": [
       "                       id  user_id   location  \\\n",
       "3818  1515434909719957504  2485161  Melbourne   \n",
       "3841  1510224303765483524  2485161  Melbourne   \n",
       "3856  1508277915036704774  2485161  Melbourne   \n",
       "3919  1496724388002996225  2485161  Melbourne   \n",
       "3944  1486892966148927491  2485161  Melbourne   \n",
       "\n",
       "                                                   text     time    rt  like  \\\n",
       "3818  RT @mrpaddygilmore: John Hegarty: “a great ad ...  2022-04     5     0   \n",
       "3841  @maddiemelb This one seemed on the cards. Feel...  2022-04     0     5   \n",
       "3856  RT @UberFacts: Someone gets slapped at the Osc...  2022-04  4281     0   \n",
       "3919  RT @JonathanLaNauze: Credlin frothing at the m...  2022-02   406     0   \n",
       "3944  RT @visualizevalue: Failure is the frame, not ...  2022-01  3601     0   \n",
       "\n",
       "     hashtag  if_city                                       cleaned_text  \\\n",
       "3818      []     True  john hegarty great product demo with twist thanks   \n",
       "3841      []     True  this seemed cards feels like were getting outc...   \n",
       "3856      []     True  someone gets slapped oscars roughly once every...   \n",
       "3919      []     True  credlin frothing mouth about very rich people ...   \n",
       "3944      []     True                              failure frame picture   \n",
       "\n",
       "      if_mental  sentiment_polarity  \n",
       "3818       True            0.500000  \n",
       "3841       True            0.800000  \n",
       "3856       True           -0.100000  \n",
       "3919       True            0.487500  \n",
       "3944       True           -0.316667  "
      ]
     },
     "execution_count": 41,
     "metadata": {},
     "output_type": "execute_result"
    }
   ],
   "source": [
    "melbourne_mental.head()"
   ]
  },
  {
   "cell_type": "code",
   "execution_count": 42,
   "metadata": {},
   "outputs": [],
   "source": [
    "#import pyecharts.options as opts\n",
    "#from example.commons import Faker\n",
    "#from pyecharts.charts import Line\n",
    "\n",
    "# 处理时间\n",
    "start = '2020-01'\n",
    "end = '2022-05'\n",
    "t = pd.date_range(start=start, end=end, freq = 'M').tolist()\n",
    "time_frame = []\n",
    "for i in t:\n",
    "    i = str(i)[:-12]\n",
    "    time_frame.append(i)"
   ]
  },
  {
   "cell_type": "code",
   "execution_count": 43,
   "metadata": {},
   "outputs": [],
   "source": [
    "melbourne_mental_cnt = melbourne_mental.sort_values(['time'], ascending=True).groupby('time')['time'].count()"
   ]
  },
  {
   "cell_type": "code",
   "execution_count": 44,
   "metadata": {},
   "outputs": [],
   "source": [
    "data_covid = pd.read_csv('NCOV_COVID_Cases_by_LGA_20220511.csv')"
   ]
  },
  {
   "cell_type": "code",
   "execution_count": 45,
   "metadata": {},
   "outputs": [
    {
     "data": {
      "text/html": [
       "<div>\n",
       "<style scoped>\n",
       "    .dataframe tbody tr th:only-of-type {\n",
       "        vertical-align: middle;\n",
       "    }\n",
       "\n",
       "    .dataframe tbody tr th {\n",
       "        vertical-align: top;\n",
       "    }\n",
       "\n",
       "    .dataframe thead th {\n",
       "        text-align: right;\n",
       "    }\n",
       "</style>\n",
       "<table border=\"1\" class=\"dataframe\">\n",
       "  <thead>\n",
       "    <tr style=\"text-align: right;\">\n",
       "      <th></th>\n",
       "      <th>diagnosis_date</th>\n",
       "      <th>Localgovernmentarea</th>\n",
       "    </tr>\n",
       "  </thead>\n",
       "  <tbody>\n",
       "    <tr>\n",
       "      <th>0</th>\n",
       "      <td>2020-03-11</td>\n",
       "      <td>Greater Geelong (C)</td>\n",
       "    </tr>\n",
       "    <tr>\n",
       "      <th>1</th>\n",
       "      <td>2020-03-08</td>\n",
       "      <td>Mornington Peninsula (S)</td>\n",
       "    </tr>\n",
       "    <tr>\n",
       "      <th>2</th>\n",
       "      <td>2020-03-09</td>\n",
       "      <td>Port Phillip (C)</td>\n",
       "    </tr>\n",
       "    <tr>\n",
       "      <th>3</th>\n",
       "      <td>2020-08-01</td>\n",
       "      <td>Whittlesea (C)</td>\n",
       "    </tr>\n",
       "    <tr>\n",
       "      <th>4</th>\n",
       "      <td>2020-03-01</td>\n",
       "      <td>Casey (C)</td>\n",
       "    </tr>\n",
       "  </tbody>\n",
       "</table>\n",
       "</div>"
      ],
      "text/plain": [
       "  diagnosis_date       Localgovernmentarea\n",
       "0     2020-03-11       Greater Geelong (C)\n",
       "1     2020-03-08  Mornington Peninsula (S)\n",
       "2     2020-03-09          Port Phillip (C)\n",
       "3     2020-08-01            Whittlesea (C)\n",
       "4     2020-03-01                 Casey (C)"
      ]
     },
     "execution_count": 45,
     "metadata": {},
     "output_type": "execute_result"
    }
   ],
   "source": [
    "data_covid.head()"
   ]
  },
  {
   "cell_type": "code",
   "execution_count": 46,
   "metadata": {},
   "outputs": [],
   "source": [
    "time_covid = []\n",
    "\n",
    "for val in data_covid['diagnosis_date']:\n",
    "    val = val[0:7]\n",
    "    time_covid.append(val)\n",
    "\n",
    "data_covid['time'] = time_covid"
   ]
  },
  {
   "cell_type": "code",
   "execution_count": 47,
   "metadata": {},
   "outputs": [],
   "source": [
    "data_covid_cnt = data_covid.sort_values(['time'], ascending=True).groupby('time')['time'].count()"
   ]
  },
  {
   "cell_type": "code",
   "execution_count": 48,
   "metadata": {},
   "outputs": [
    {
     "data": {
      "text/plain": [
       "<function matplotlib.pyplot.show(close=None, block=None)>"
      ]
     },
     "execution_count": 48,
     "metadata": {},
     "output_type": "execute_result"
    },
    {
     "data": {
      "image/png": "[encoded data removed]",
      "text/plain": [
       "<Figure size 1080x432 with 1 Axes>"
      ]
     },
     "metadata": {},
     "output_type": "display_data"
    }
   ],
   "source": [
    "plt.style.use('ggplot')\n",
    "fig = plt.figure(figsize=(15, 6))\n",
    "color_1 = '#6D6D6D'\n",
    "\n",
    "melbourne_mental_cnt.plot(\n",
    "    color = '#C42022',\n",
    "    marker = 'o', markersize = 4,\n",
    "    label = 'Melbourne Mental Tweet Cnt'\n",
    ")\n",
    "'''\n",
    "data_covid_cnt.plot(\n",
    "    color = '#C42022',\n",
    "    marker = 'o', markersize = 4,\n",
    "    label = 'Melbourne Covid Confirmed Cnt'\n",
    ")\n",
    "'''\n",
    "\n",
    "plt.title('Melbourne Mental Tweets Count Though Timeline', color = color_1, fontsize = 18)\n",
    "plt.xlabel('Month')\n",
    "plt.ylabel('Count')\n",
    "plt.legend()\n",
    "plt.show"
   ]
  },
  {
   "cell_type": "code",
   "execution_count": 49,
   "metadata": {},
   "outputs": [
    {
     "data": {
      "text/plain": [
       "<function matplotlib.pyplot.show(close=None, block=None)>"
      ]
     },
     "execution_count": 49,
     "metadata": {},
     "output_type": "execute_result"
    },
    {
     "data": {
      "image/png": "[encoded data removed]",
      "text/plain": [
       "<Figure size 1080x432 with 1 Axes>"
      ]
     },
     "metadata": {},
     "output_type": "display_data"
    }
   ],
   "source": [
    "plt.style.use('ggplot')\n",
    "fig = plt.figure(figsize=(15, 6))\n",
    "color_1 = '#6D6D6D'\n",
    "'''\n",
    "melbourne_mental_cnt.plot(\n",
    "    color = '#C42022',\n",
    "    marker = 'o', markersize = 4,\n",
    "    label = 'Melbourne Mental Tweet Cnt'\n",
    ")\n",
    "'''\n",
    "data_covid_cnt.plot(\n",
    "    color = '#C42022',\n",
    "    marker = 'o', markersize = 4,\n",
    "    label = 'Melbourne Covid PCR Confirmed Cnt'\n",
    ")\n",
    "\n",
    "\n",
    "plt.title('Covid PCR New Case Through Timeline ', color = color_1, fontsize = 18)\n",
    "plt.xlabel('Month')\n",
    "plt.ylabel('Count')\n",
    "plt.legend()\n",
    "plt.show"
   ]
  },
  {
   "cell_type": "markdown",
   "metadata": {},
   "source": [
    "# Word Cloud"
   ]
  },
  {
   "cell_type": "code",
   "execution_count": 50,
   "metadata": {},
   "outputs": [],
   "source": [
    "stoplist = ['very', 'ourselves', 'am', 'doesn', 'through', 'me', 'against', 'up', 'just', 'her', 'ours', \n",
    "            'couldn', 'because', 'is', 'isn', 'it', 'only', 'in', 'such', 'too', 'mustn', 'under', 'their', \n",
    "            'if', 'to', 'my', 'himself', 'after', 'why', 'while', 'can', 'each', 'itself', 'his', 'all', 'once', \n",
    "            'herself', 'more', 'our', 'they', 'hasn', 'on', 'ma', 'them', 'its', 'where', 'did', 'll', 'you', \n",
    "            'didn', 'nor', 'as', 'now', 'before', 'those', 'yours', 'from', 'who', 'was', 'm', 'been', 'will', \n",
    "            'into', 'same', 'how', 'some', 'of', 'out', 'with', 's', 'being', 't', 'mightn', 'she', 'again', 'be', \n",
    "            'by', 'shan', 'have', 'yourselves', 'needn', 'and', 'are', 'o', 'these', 'further', 'most', 'yourself', \n",
    "            'having', 'aren', 'here', 'he', 'were', 'but', 'this', 'myself', 'own', 'we', 'so', 'i', 'does', 'both', \n",
    "            'when', 'between', 'd', 'had', 'the', 'y', 'has', 'down', 'off', 'than', 'haven', 'whom', 'wouldn', \n",
    "            'should', 've', 'over', 'themselves', 'few', 'then', 'hadn', 'what', 'until', 'won', 'no', 'about', \n",
    "            'any', 'that', 'for', 'shouldn', 'don', 'do', 'there', 'doing', 'an', 'or', 'ain', 'hers', 'wasn', \n",
    "            'weren', 'above', 'a', 'at', 'your', 'theirs', 'below', 'other', 'not', 're', 'him', 'during', 'which',\n",
    "            'im', 'dont', 'havent', 'like', 'one', 'get', 'first', 'time', 'many', 'would', 'today']"
   ]
  },
  {
   "cell_type": "code",
   "execution_count": 51,
   "metadata": {},
   "outputs": [],
   "source": [
    "def takeCnt(x):\n",
    "    return x[1]\n",
    "\n",
    "def generate_word_list(dataset):\n",
    "    word_text = [[word for word in doc.lower().split() if word not in stoplist] for doc in dataset['cleaned_text']]\n",
    "    word_str = ''\n",
    "    for ele in word_text:\n",
    "        for val in ele:\n",
    "            word_str += val + ' '\n",
    "    \n",
    "    return word_str\n",
    "\n",
    "\n",
    "def word_cnt(word_str):\n",
    "\n",
    "    words = word_str.split()\n",
    "    word_cnt = {}\n",
    "\n",
    "    for word in words:\n",
    "        word_cnt[word] = word_cnt.get(word, 0) + 1\n",
    "\n",
    "    items = list(word_cnt.items())\n",
    "    items.sort(key = takeCnt, reverse = True)\n",
    "\n",
    "    for i in range(10):\n",
    "        key, value = items[i]\n",
    "        print('{0:<10}{1:>5}'.format(key, value))\n",
    "\n",
    "\n",
    "def word_cnt_plt(word_str):\n",
    "\n",
    "    words = word_str.split()\n",
    "    word_cnt = {}\n",
    "\n",
    "    for word in words:\n",
    "        word_cnt[word] = word_cnt.get(word, 0) + 1\n",
    "\n",
    "    items = list(word_cnt.items())\n",
    "    items.sort(key = takeCnt, reverse = True)\n",
    "\n",
    "    return items"
   ]
  },
  {
   "cell_type": "code",
   "execution_count": 52,
   "metadata": {},
   "outputs": [
    {
     "name": "stdout",
     "output_type": "stream",
     "text": [
      "Melbourne word count: \n",
      "media      1051\n",
      "people      721\n",
      "health      520\n",
      "good        475\n",
      "social      460\n",
      "mental      426\n",
      "covid       417\n",
      "event       403\n",
      "great       399\n",
      "right       352\n",
      "Sydney word count: \n",
      "media       752\n",
      "people      383\n",
      "social      290\n",
      "covid       253\n",
      "event       252\n",
      "good        225\n",
      "great       209\n",
      "morrison    203\n",
      "abuse       203\n",
      "right       179\n",
      "Brisbane word count: \n",
      "media       220\n",
      "people      123\n",
      "morrison    106\n",
      "good         77\n",
      "know         71\n",
      "covid        66\n",
      "confirmed    62\n",
      "social       60\n",
      "medical      60\n",
      "news         56\n",
      "Ald word count: \n",
      "media       128\n",
      "people      101\n",
      "good         64\n",
      "back         63\n",
      "great        58\n",
      "care         57\n",
      "health       53\n",
      "covid        53\n",
      "australia    48\n",
      "mental       47\n"
     ]
    }
   ],
   "source": [
    "# melbourne  Calculating word frequency\n",
    "print('Melbourne word count: ')\n",
    "word_cnt(generate_word_list(melbourne_mental))\n",
    "\n",
    "# sydney  Calculating word frequency\n",
    "print('Sydney word count: ')\n",
    "word_cnt(generate_word_list(sydney_mental))\n",
    "\n",
    "# brisbane  Calculating word frequency\n",
    "print('Brisbane word count: ')\n",
    "word_cnt(generate_word_list(brisbane_mental))\n",
    "\n",
    "# ald  Calculating word frequency\n",
    "print('Ald word count: ')\n",
    "word_cnt(generate_word_list(adelaide_mental))"
   ]
  },
  {
   "cell_type": "code",
   "execution_count": 53,
   "metadata": {},
   "outputs": [],
   "source": [
    "def generate_word_cloud(dataset):\n",
    "    txt = generate_word_list(dataset)\n",
    "    font_path = os.environ.get('FONT_PATH', '/Library/Fonts/Times New Roman.ttf')\n",
    "    w = wordcloud.WordCloud(font_path = font_path, width = 800, height = 600, max_words = 40, font_step = 3)\n",
    "    w.generate(txt)\n",
    "    w.to_file('wordcloud.png')\n",
    "\n",
    "    print('word cloud generated successfully!')"
   ]
  },
  {
   "cell_type": "code",
   "execution_count": 189,
   "metadata": {},
   "outputs": [
    {
     "name": "stdout",
     "output_type": "stream",
     "text": [
      "word cloud generated successfully!\n"
     ]
    }
   ],
   "source": [
    "generate_word_cloud(melbourne_mental)"
   ]
  },
  {
   "cell_type": "markdown",
   "metadata": {},
   "source": [
    "# Hashtag Analysis"
   ]
  },
  {
   "cell_type": "code",
   "execution_count": 54,
   "metadata": {},
   "outputs": [
    {
     "name": "stderr",
     "output_type": "stream",
     "text": [
      "/anaconda3/lib/python3.7/site-packages/ipykernel_launcher.py:8: SettingWithCopyWarning: \n",
      "A value is trying to be set on a copy of a slice from a DataFrame.\n",
      "Try using .loc[row_indexer,col_indexer] = value instead\n",
      "\n",
      "See the caveats in the documentation: https://pandas.pydata.org/pandas-docs/stable/user_guide/indexing.html#returning-a-view-versus-a-copy\n",
      "  \n"
     ]
    }
   ],
   "source": [
    "if_hashtag = []\n",
    "for idx,val in enumerate(melbourne_mental['hashtag']):\n",
    "    if len(val) > 0:\n",
    "        if_hashtag.append(True)\n",
    "    else:\n",
    "        if_hashtag.append(False)\n",
    "\n",
    "melbourne_mental['if_hashtag'] = if_hashtag\n",
    "melbourne_mental_hashtag = melbourne_mental[melbourne_mental['if_hashtag'] == True]"
   ]
  },
  {
   "cell_type": "code",
   "execution_count": 56,
   "metadata": {},
   "outputs": [],
   "source": [
    "def generate_hashtag_list(dataset):\n",
    "    word_str = ''\n",
    "    for ele in dataset['hashtag']:\n",
    "        for val in ele:\n",
    "            word_str += val + ' '\n",
    "    \n",
    "    return word_str"
   ]
  },
  {
   "cell_type": "code",
   "execution_count": 57,
   "metadata": {},
   "outputs": [
    {
     "name": "stdout",
     "output_type": "stream",
     "text": [
      "auspol       94\n",
      "COVID19      36\n",
      "AppleEvent   31\n",
      "Oscars       22\n",
      "votethemout   22\n",
      "MurdochGutterMedia   18\n",
      "coronavirus   18\n",
      "COVID19Aus   14\n",
      "TheMotherFault   13\n",
      "BREAKING     12\n"
     ]
    }
   ],
   "source": [
    "word_cnt(generate_hashtag_list(melbourne_mental_hashtag))"
   ]
  },
  {
   "cell_type": "code",
   "execution_count": 88,
   "metadata": {},
   "outputs": [
    {
     "name": "stderr",
     "output_type": "stream",
     "text": [
      "/anaconda3/lib/python3.7/site-packages/seaborn/_decorators.py:43: FutureWarning: Pass the following variables as keyword args: x, y. From version 0.12, the only valid positional argument will be `data`, and passing other arguments without an explicit keyword will result in an error or misinterpretation.\n",
      "  FutureWarning\n"
     ]
    },
    {
     "data": {
      "text/plain": [
       "<function matplotlib.pyplot.show(close=None, block=None)>"
      ]
     },
     "execution_count": 88,
     "metadata": {},
     "output_type": "execute_result"
    },
    {
     "data": {
      "image/png": "[encoded data removed]",
      "text/plain": [
       "<Figure size 432x288 with 1 Axes>"
      ]
     },
     "metadata": {},
     "output_type": "display_data"
    }
   ],
   "source": [
    "x = []\n",
    "y = []\n",
    "for val in word_cnt_plt(generate_hashtag_list(melbourne_mental_hashtag))[0:10]:\n",
    "    key, value = val\n",
    "    x.append(key)\n",
    "    y.append(value)\n",
    "\n",
    "sns.barplot(y, x)\n",
    "plt.show"
   ]
  },
  {
   "cell_type": "markdown",
   "metadata": {},
   "source": [
    "### First Wave (2020-03 to 2020-05)"
   ]
  },
  {
   "cell_type": "code",
   "execution_count": 100,
   "metadata": {},
   "outputs": [],
   "source": [
    "melbourne_mental_hashtag_w1 = melbourne_mental_hashtag.loc[(melbourne_mental_hashtag['time'] >= '2020-03') & (melbourne_mental_hashtag['time'] <= '2020-05')] \n",
    "melbourne_mental_hashtag_w1 = melbourne_mental_hashtag_w1.reset_index(drop = True)\n"
   ]
  },
  {
   "cell_type": "code",
   "execution_count": 114,
   "metadata": {},
   "outputs": [],
   "source": [
    "def hashtag_attention(dataset):\n",
    "\n",
    "    hashtag_score = {}\n",
    "\n",
    "    for idx, val in enumerate(dataset['hashtag']):\n",
    "        for hashtag in val:\n",
    "            hashtag_score[hashtag] = hashtag_score.get(hashtag, 0) + int(dataset['rt'][idx])*5 + int(dataset['like'][idx])\n",
    "\n",
    "    items = list(hashtag_score.items())\n",
    "    items.sort(key = takeCnt, reverse = True)\n",
    "\n",
    "    return items"
   ]
  },
  {
   "cell_type": "code",
   "execution_count": 116,
   "metadata": {},
   "outputs": [
    {
     "name": "stderr",
     "output_type": "stream",
     "text": [
      "/anaconda3/lib/python3.7/site-packages/seaborn/_decorators.py:43: FutureWarning: Pass the following variables as keyword args: x, y. From version 0.12, the only valid positional argument will be `data`, and passing other arguments without an explicit keyword will result in an error or misinterpretation.\n",
      "  FutureWarning\n"
     ]
    },
    {
     "data": {
      "text/plain": [
       "<function matplotlib.pyplot.show(close=None, block=None)>"
      ]
     },
     "execution_count": 116,
     "metadata": {},
     "output_type": "execute_result"
    },
    {
     "data": {
      "image/png": "[encoded data removed]",
      "text/plain": [
       "<Figure size 432x288 with 1 Axes>"
      ]
     },
     "metadata": {},
     "output_type": "display_data"
    }
   ],
   "source": [
    "x = []\n",
    "y = []\n",
    "for val in hashtag_attention(melbourne_mental_hashtag_w1)[0:10]:\n",
    "    key, value = val\n",
    "    x.append(key)\n",
    "    y.append(value)\n",
    "\n",
    "sns.barplot(y, x)\n",
    "plt.show"
   ]
  },
  {
   "cell_type": "markdown",
   "metadata": {},
   "source": [
    "### Second Wave (2020-06 to 2020-10)"
   ]
  },
  {
   "cell_type": "code",
   "execution_count": 105,
   "metadata": {},
   "outputs": [],
   "source": [
    "melbourne_mental_hashtag_w2 = melbourne_mental_hashtag.loc[(melbourne_mental_hashtag['time'] >= '2020-06') & (melbourne_mental_hashtag['time'] <= '2020-10')] \n",
    "melbourne_mental_hashtag_w2 = melbourne_mental_hashtag_w2.reset_index(drop = True)\n"
   ]
  },
  {
   "cell_type": "code",
   "execution_count": 117,
   "metadata": {},
   "outputs": [
    {
     "name": "stderr",
     "output_type": "stream",
     "text": [
      "/anaconda3/lib/python3.7/site-packages/seaborn/_decorators.py:43: FutureWarning: Pass the following variables as keyword args: x, y. From version 0.12, the only valid positional argument will be `data`, and passing other arguments without an explicit keyword will result in an error or misinterpretation.\n",
      "  FutureWarning\n"
     ]
    },
    {
     "data": {
      "text/plain": [
       "<function matplotlib.pyplot.show(close=None, block=None)>"
      ]
     },
     "execution_count": 117,
     "metadata": {},
     "output_type": "execute_result"
    },
    {
     "data": {
      "image/png": "[encoded data removed]",
      "text/plain": [
       "<Figure size 432x288 with 1 Axes>"
      ]
     },
     "metadata": {},
     "output_type": "display_data"
    }
   ],
   "source": [
    "x = []\n",
    "y = []\n",
    "for val in hashtag_attention(melbourne_mental_hashtag_w2)[0:10]:\n",
    "    key, value = val\n",
    "    x.append(key)\n",
    "    y.append(value)\n",
    "\n",
    "sns.barplot(y, x)\n",
    "plt.show"
   ]
  },
  {
   "cell_type": "markdown",
   "metadata": {},
   "source": [
    "### Third Wave (2021-07 to present)"
   ]
  },
  {
   "cell_type": "code",
   "execution_count": 108,
   "metadata": {},
   "outputs": [],
   "source": [
    "melbourne_mental_hashtag_w3 = melbourne_mental_hashtag.loc[(melbourne_mental_hashtag['time'] >= '2021-07')] \n",
    "melbourne_mental_hashtag_w3 = melbourne_mental_hashtag_w3.reset_index(drop = True)\n"
   ]
  },
  {
   "cell_type": "code",
   "execution_count": 118,
   "metadata": {},
   "outputs": [
    {
     "name": "stderr",
     "output_type": "stream",
     "text": [
      "/anaconda3/lib/python3.7/site-packages/seaborn/_decorators.py:43: FutureWarning: Pass the following variables as keyword args: x, y. From version 0.12, the only valid positional argument will be `data`, and passing other arguments without an explicit keyword will result in an error or misinterpretation.\n",
      "  FutureWarning\n"
     ]
    },
    {
     "data": {
      "text/plain": [
       "<function matplotlib.pyplot.show(close=None, block=None)>"
      ]
     },
     "execution_count": 118,
     "metadata": {},
     "output_type": "execute_result"
    },
    {
     "data": {
      "image/png": "[encoded data removed]",
      "text/plain": [
       "<Figure size 432x288 with 1 Axes>"
      ]
     },
     "metadata": {},
     "output_type": "display_data"
    }
   ],
   "source": [
    "x = []\n",
    "y = []\n",
    "for val in hashtag_attention(melbourne_mental_hashtag_w3)[0:10]:\n",
    "    key, value = val\n",
    "    x.append(key)\n",
    "    y.append(value)\n",
    "\n",
    "sns.barplot(y, x)\n",
    "plt.show"
   ]
  },
  {
   "cell_type": "markdown",
   "metadata": {},
   "source": [
    "# Topic Modeling"
   ]
  },
  {
   "cell_type": "code",
   "execution_count": 60,
   "metadata": {},
   "outputs": [],
   "source": [
    "new_stopword = nltk.corpus.stopwords.words('english')\n",
    "repeated_words = ['ever', 'start', 'pre', 'amp', '&amp', 'may', 'and', 'when', 'what', 'who', 'why', 'how',\n",
    "                  'this', 'your', 'mine', 'their', 'her', 'his', 'that']\n",
    "\n",
    "for ele in repeated_words:\n",
    "    new_stopword.append(ele)"
   ]
  },
  {
   "cell_type": "code",
   "execution_count": 61,
   "metadata": {},
   "outputs": [],
   "source": [
    "tweets = melbourne_mental['cleaned_text'].apply(lambda x: ' '.join([word for word in x.split() if word not in new_stopword]))\n",
    "\n",
    "tokenizer = TweetTokenizer(r'\\w+')\n",
    "tweets = [tokenizer.tokenize(tweet) for tweet in tweets]\n",
    "\n",
    "lemmatizer = WordNetLemmatizer()\n",
    "tweets = [[lemmatizer.lemmatize(token) for token in tweet] for tweet in tweets]"
   ]
  },
  {
   "cell_type": "code",
   "execution_count": 62,
   "metadata": {},
   "outputs": [],
   "source": [
    "bigram = Phrases(tweets, min_count = 10)\n",
    "trigram = Phrases(bigram[tweets])\n",
    "\n",
    "for i in range(len(tweets)):\n",
    "    for val in bigram[tweets[i]]:\n",
    "        if '_' in val:\n",
    "            tweets[i].append(val)\n",
    "    for val in trigram[tweets[i]]:\n",
    "        if '_' in val:\n",
    "            tweets[i].append(val)\n",
    "\n",
    "dictionary = Dictionary(tweets)\n",
    "dictionary.filter_extremes(no_below=10, no_above=0.2)\n",
    "\n",
    "corpus = [dictionary.doc2bow(tweet) for tweet in tweets]"
   ]
  },
  {
   "cell_type": "code",
   "execution_count": 63,
   "metadata": {},
   "outputs": [
    {
     "name": "stdout",
     "output_type": "stream",
     "text": [
      "[(0, '0.017*\"event\" + 0.015*\"best\" + 0.013*\"better\" + 0.013*\"recovery\" + 0.013*\"night\" + 0.012*\"comedy\" + 0.012*\"avoid\" + 0.012*\"last_night\" + 0.011*\"watch\" + 0.010*\"doctor\"'), (1, '0.018*\"confirmed\" + 0.013*\"medical\" + 0.011*\"government\" + 0.011*\"case\" + 0.010*\"failure\" + 0.010*\"prime_minister\" + 0.009*\"young_people\" + 0.009*\"people\" + 0.009*\"young\" + 0.008*\"confirmed_case\"'), (2, '0.106*\"mental_health\" + 0.050*\"health\" + 0.040*\"mental\" + 0.025*\"scott_morrison\" + 0.012*\"havent_seen\" + 0.012*\"seen\" + 0.011*\"condition\" + 0.011*\"scott\" + 0.010*\"morrison\" + 0.010*\"death\"'), (3, '0.088*\"social_medium\" + 0.087*\"medium\" + 0.037*\"social\" + 0.015*\"aged_care\" + 0.013*\"care\" + 0.010*\"eden_park\" + 0.007*\"aged\" + 0.007*\"trump\" + 0.007*\"early\" + 0.006*\"kind\"'), (4, '0.011*\"like\" + 0.011*\"people\" + 0.010*\"year\" + 0.010*\"good\" + 0.010*\"time\" + 0.009*\"today\" + 0.009*\"event\" + 0.008*\"first\" + 0.008*\"great\" + 0.007*\"many\"')]\n"
     ]
    }
   ],
   "source": [
    "topic_num = 5\n",
    "\n",
    "temp = dictionary[0]\n",
    "id2word = dictionary.id2token\n",
    "\n",
    "lda_model = LdaModel(corpus = corpus, id2word = id2word, chunksize = len(melbourne_mental)/5,\n",
    "                     alpha = 'auto', eta = 'auto', iterations = 20, num_topics = topic_num, \n",
    "                     passes = 20, eval_every = 1, random_state = np.random.RandomState(100))\n",
    "\n",
    "print(lda_model.print_topics())"
   ]
  },
  {
   "cell_type": "markdown",
   "metadata": {},
   "source": [
    "# Suburb Analysis"
   ]
  },
  {
   "cell_type": "code",
   "execution_count": 65,
   "metadata": {},
   "outputs": [],
   "source": [
    "user_id = []\n",
    "user_sub = []\n",
    "\n",
    "f = open('area-finding/authorListAdd.json')\n",
    "line = f.readline()\n",
    "line = line[1:-1].split('},')\n",
    "for val in line:\n",
    "    val = val + '}'\n",
    "    sub = int(val[val.find('suburb\": ') + 9:val.find('}')])\n",
    "\n",
    "    if sub > 0:\n",
    "        user_id.append(val[val.find('_id\": ') + 6:val.find(', \"coor')])\n",
    "        user_sub.append(sub)\n",
    "\n",
    "f.close()"
   ]
  },
  {
   "cell_type": "code",
   "execution_count": 66,
   "metadata": {},
   "outputs": [],
   "source": [
    "melbourne_user_info = pd.DataFrame()\n",
    "melbourne_user_info['user_id'] = user_id\n",
    "melbourne_user_info['user_suburb'] = user_sub"
   ]
  },
  {
   "cell_type": "code",
   "execution_count": 67,
   "metadata": {},
   "outputs": [],
   "source": [
    "# 墨尔本地区 inner join\n",
    "melbourne_mental_sub = melbourne_mental.merge(melbourne_user_info, on = 'user_id')"
   ]
  },
  {
   "cell_type": "code",
   "execution_count": 87,
   "metadata": {},
   "outputs": [],
   "source": [
    "'''\n",
    "# 墨尔本地区带有Suburb ID的数据输出\n",
    "melbourne_mental_sub_js = melbourne_mental_sub.drop(columns = ['if_city', 'if_mental', 'if_hashtag'], axis = 1).to_json(r'Melbourne_mental_suburb.json', orient = 'records')\n",
    "'''"
   ]
  },
  {
   "cell_type": "code",
   "execution_count": null,
   "metadata": {},
   "outputs": [],
   "source": []
  },
  {
   "cell_type": "code",
   "execution_count": 69,
   "metadata": {},
   "outputs": [],
   "source": [
    "#Total number of sentiment-related tweets per suburb, number of positive, number of negative (during the epidemic)\n",
    "suburb_mental_cnt = melbourne_mental_sub.groupby('user_suburb')['user_suburb'].count()\n",
    "suburb_mental_positive_cnt = melbourne_mental_sub[melbourne_mental_sub['sentiment_polarity'] > 0].groupby('user_suburb')['user_suburb'].count()\n",
    "suburb_mental_negative_cnt = melbourne_mental_sub[melbourne_mental_sub['sentiment_polarity'] < 0].groupby('user_suburb')['user_suburb'].count()\n"
   ]
  },
  {
   "cell_type": "code",
   "execution_count": 70,
   "metadata": {},
   "outputs": [],
   "source": [
    "# Calculate the average number of retweets and likes of sentiment-related tweets, positive tweets, negative tweets per suburb on average (during the epidemic)\n",
    "suburb_mental_rt_sum = (melbourne_mental_sub.groupby('user_suburb')['rt'].sum()) / suburb_mental_cnt\n",
    "suburb_mental_rt_pos_sum = (melbourne_mental_sub[melbourne_mental_sub['sentiment_polarity'] > 0].groupby('user_suburb')['rt'].sum()) / suburb_mental_cnt\n",
    "suburb_mental_rt_neg_sum = (melbourne_mental_sub[melbourne_mental_sub['sentiment_polarity'] < 0].groupby('user_suburb')['rt'].sum()) / suburb_mental_cnt"
   ]
  },
  {
   "cell_type": "code",
   "execution_count": null,
   "metadata": {},
   "outputs": [],
   "source": []
  }
 ],
 "metadata": {
  "interpreter": {
   "hash": "398dc28c06ad810e77de546bbdfa897a6ee0b83e59a5207339dda01a7843e01d"
  },
  "kernelspec": {
   "display_name": "Python 3.7.1",
   "language": "python",
   "name": "python3"
  },
  "language_info": {
   "codemirror_mode": {
    "name": "ipython",
    "version": 3
   },
   "file_extension": ".py",
   "mimetype": "text/x-python",
   "name": "python",
   "nbconvert_exporter": "python",
   "pygments_lexer": "ipython3",
   "version": "3.7.1"
  },
  "orig_nbformat": 4
 },
 "nbformat": 4,
 "nbformat_minor": 2
}
