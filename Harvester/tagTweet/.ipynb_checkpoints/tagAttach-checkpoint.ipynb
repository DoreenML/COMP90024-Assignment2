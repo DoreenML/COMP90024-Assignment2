{
 "cells": [
  {
   "cell_type": "code",
   "execution_count": 45,
   "metadata": {},
   "outputs": [
    {
     "ename": "KeyError",
     "evalue": "'user'",
     "output_type": "error",
     "traceback": [
      "\u001b[1;31m---------------------------------------------------------------------------\u001b[0m",
      "\u001b[1;31mKeyError\u001b[0m                                  Traceback (most recent call last)",
      "\u001b[1;32m~\\AppData\\Local\\Temp\\ipykernel_29176\\2055963874.py\u001b[0m in \u001b[0;36m<module>\u001b[1;34m\u001b[0m\n\u001b[0;32m     37\u001b[0m \u001b[1;33m\u001b[0m\u001b[0m\n\u001b[0;32m     38\u001b[0m \u001b[0mloadPosition\u001b[0m \u001b[1;33m=\u001b[0m \u001b[1;34m'../databaseBackend/tweet_covid_australia_mark6.json'\u001b[0m\u001b[1;33m\u001b[0m\u001b[1;33m\u001b[0m\u001b[0m\n\u001b[1;32m---> 39\u001b[1;33m \u001b[0mdictTweets\u001b[0m \u001b[1;33m=\u001b[0m \u001b[0mloadAndClean\u001b[0m\u001b[1;33m(\u001b[0m\u001b[0mloadPosition\u001b[0m\u001b[1;33m)\u001b[0m\u001b[1;33m\u001b[0m\u001b[1;33m\u001b[0m\u001b[0m\n\u001b[0m",
      "\u001b[1;32m~\\AppData\\Local\\Temp\\ipykernel_29176\\2055963874.py\u001b[0m in \u001b[0;36mloadAndClean\u001b[1;34m(loadPosition)\u001b[0m\n\u001b[0;32m     18\u001b[0m             \u001b[0mdictRebuild\u001b[0m\u001b[1;33m[\u001b[0m\u001b[1;34m'_id'\u001b[0m\u001b[1;33m]\u001b[0m \u001b[1;33m=\u001b[0m \u001b[0mdictTweet\u001b[0m\u001b[1;33m[\u001b[0m\u001b[1;34m'doc'\u001b[0m\u001b[1;33m]\u001b[0m\u001b[1;33m[\u001b[0m\u001b[1;34m'_id'\u001b[0m\u001b[1;33m]\u001b[0m\u001b[1;33m\u001b[0m\u001b[1;33m\u001b[0m\u001b[0m\n\u001b[0;32m     19\u001b[0m             \u001b[0mdictRebuild\u001b[0m\u001b[1;33m[\u001b[0m\u001b[1;34m'text'\u001b[0m\u001b[1;33m]\u001b[0m \u001b[1;33m=\u001b[0m \u001b[0mdictTweet\u001b[0m\u001b[1;33m[\u001b[0m\u001b[1;34m'doc'\u001b[0m\u001b[1;33m]\u001b[0m\u001b[1;33m[\u001b[0m\u001b[1;34m'text'\u001b[0m\u001b[1;33m]\u001b[0m\u001b[1;33m\u001b[0m\u001b[1;33m\u001b[0m\u001b[0m\n\u001b[1;32m---> 20\u001b[1;33m             \u001b[0mdictRebuild\u001b[0m\u001b[1;33m[\u001b[0m\u001b[1;34m'userID'\u001b[0m\u001b[1;33m]\u001b[0m \u001b[1;33m=\u001b[0m \u001b[0mstr\u001b[0m\u001b[1;33m(\u001b[0m\u001b[0mdictTweet\u001b[0m\u001b[1;33m[\u001b[0m\u001b[1;34m'doc'\u001b[0m\u001b[1;33m]\u001b[0m\u001b[1;33m[\u001b[0m\u001b[1;34m'user'\u001b[0m\u001b[1;33m]\u001b[0m\u001b[1;33m[\u001b[0m\u001b[1;34m'id'\u001b[0m\u001b[1;33m]\u001b[0m\u001b[1;33m)\u001b[0m\u001b[1;33m\u001b[0m\u001b[1;33m\u001b[0m\u001b[0m\n\u001b[0m\u001b[0;32m     21\u001b[0m             \u001b[0mdictRebuild\u001b[0m\u001b[1;33m[\u001b[0m\u001b[1;34m'hashtags'\u001b[0m\u001b[1;33m]\u001b[0m \u001b[1;33m=\u001b[0m \u001b[1;33m[\u001b[0m\u001b[1;33m]\u001b[0m\u001b[1;33m\u001b[0m\u001b[1;33m\u001b[0m\u001b[0m\n\u001b[0;32m     22\u001b[0m             \u001b[0mdictRebuild\u001b[0m\u001b[1;33m[\u001b[0m\u001b[1;34m'created_at'\u001b[0m\u001b[1;33m]\u001b[0m \u001b[1;33m=\u001b[0m \u001b[0mdictTweet\u001b[0m\u001b[1;33m[\u001b[0m\u001b[1;34m'doc'\u001b[0m\u001b[1;33m]\u001b[0m\u001b[1;33m[\u001b[0m\u001b[1;34m'created_at'\u001b[0m\u001b[1;33m]\u001b[0m\u001b[1;33m\u001b[0m\u001b[1;33m\u001b[0m\u001b[0m\n",
      "\u001b[1;31mKeyError\u001b[0m: 'user'"
     ]
    }
   ],
   "source": [
    "# import json\n",
    "# import pandas as pd\n",
    "# import numpy as np\n",
    "# import matplotlib.pyplot as plt\n",
    "# import seaborn as sns\n",
    "# import sklearn\n",
    "# import re\n",
    "\n",
    "# # Load json, clean data as dictTweets\n",
    "# def loadAndClean(loadPosition):\n",
    "#     with open(loadPosition, 'r',encoding='utf-8') as f:\n",
    "#         dictTweetsLoad=json.load(f)['rows']\n",
    "        \n",
    "#     dictTweets = []\n",
    "    \n",
    "#     for dictTweet in dictTweetsLoad:\n",
    "#             dictRebuild = {}\n",
    "#             dictRebuild['_id'] = dictTweet['doc']['_id']\n",
    "#             dictRebuild['text'] = dictTweet['doc']['text']\n",
    "#             dictRebuild['userID'] = str(dictTweet['doc']['user']['id'])\n",
    "#             dictRebuild['hashtags'] = []\n",
    "#             dictRebuild['created_at'] = dictTweet['doc']['created_at']\n",
    "#             dictRebuild['in_reply_to_user_id_str'] = dictTweet['doc']['in_reply_to_user_id_str']\n",
    "#             dictRebuild['quote_count'] = dictTweet['doc']['quote_count']\n",
    "#             dictRebuild['reply_count'] = dictTweet['doc']['reply_count']\n",
    "#             dictRebuild['retweet_count'] = dictTweet['doc']['retweet_count']\n",
    "#             dictRebuild['favorite_count'] = dictTweet['doc']['favorite_count']\n",
    "#             dictRebuild['hashtags'] = []\n",
    "#             for hashtag in dictTweet['doc']['entities']['hashtags']:\n",
    "#                 dictRebuild['hashtags'].append(hashtag['text'])\n",
    "#             dictRebuild['suburbID'] = None\n",
    "#             dictRebuild['cityName'] = None\n",
    "#             if 'suburbID' in dictTweet['doc']:\n",
    "#                 dictRebuild['suburbID'] = dictTweet['doc']['suburbID']\n",
    "#             dictTweets.append(dictRebuild)\n",
    "#     return dictTweets\n",
    "\n",
    "# loadPosition = '../databaseBackend/tweet_covid_australia_mark6.json'\n",
    "# dictTweets = loadAndClean(loadPosition)"
   ]
  },
  {
   "cell_type": "code",
   "execution_count": 43,
   "metadata": {},
   "outputs": [
    {
     "data": {
      "text/plain": [
       "0"
      ]
     },
     "execution_count": 43,
     "metadata": {},
     "output_type": "execute_result"
    }
   ],
   "source": [
    "len(dictTweets)"
   ]
  },
  {
   "cell_type": "code",
   "execution_count": null,
   "metadata": {},
   "outputs": [],
   "source": []
  }
 ],
 "metadata": {
  "kernelspec": {
   "display_name": "Python 3 (ipykernel)",
   "language": "python",
   "name": "python3"
  },
  "language_info": {
   "codemirror_mode": {
    "name": "ipython",
    "version": 3
   },
   "file_extension": ".py",
   "mimetype": "text/x-python",
   "name": "python",
   "nbconvert_exporter": "python",
   "pygments_lexer": "ipython3",
   "version": "3.7.13"
  }
 },
 "nbformat": 4,
 "nbformat_minor": 1
}
